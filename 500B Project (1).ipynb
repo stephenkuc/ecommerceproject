{
 "cells": [
  {
   "cell_type": "code",
   "metadata": {
    "cell_id": "00000-771f377f-959e-430c-a274-f58c21883bd9",
    "deepnote_to_be_reexecuted": false,
    "source_hash": "7c05dc00",
    "execution_start": 1630702146135,
    "execution_millis": 4051,
    "deepnote_cell_type": "code"
   },
   "source": "#importing necessary libraries \n\nimport numpy as np\nimport pandas as pd\nimport matplotlib as mpl\nimport matplotlib.pyplot as plt\nimport seaborn as sns\n\nfrom sklearn.model_selection import train_test_split\nfrom sklearn.ensemble import RandomForestClassifier\nfrom sklearn import model_selection, preprocessing, feature_selection, ensemble, linear_model, decomposition\n\n",
   "execution_count": 1,
   "outputs": []
  },
  {
   "cell_type": "code",
   "metadata": {
    "tags": [],
    "cell_id": "00001-ffd76590-bc48-4e22-ba40-37e2bad0c368",
    "deepnote_to_be_reexecuted": false,
    "source_hash": "f0b862fd",
    "execution_start": 1630702150194,
    "execution_millis": 243,
    "deepnote_cell_type": "code"
   },
   "source": "# importing dataset as dataframe named table\n# peeking at the first 5 rows\ntable = pd.read_csv('online_shoppers_intention.csv')\ntable.head()",
   "execution_count": 2,
   "outputs": [
    {
     "output_type": "execute_result",
     "execution_count": 2,
     "data": {
      "application/vnd.deepnote.dataframe.v2+json": {
       "row_count": 5,
       "column_count": 18,
       "columns": [
        {
         "name": "Administrative",
         "dtype": "int64",
         "stats": {
          "unique_count": 1,
          "nan_count": 0,
          "min": "0",
          "max": "0",
          "histogram": [
           {
            "bin_start": -0.5,
            "bin_end": -0.4,
            "count": 0
           },
           {
            "bin_start": -0.4,
            "bin_end": -0.3,
            "count": 0
           },
           {
            "bin_start": -0.3,
            "bin_end": -0.19999999999999996,
            "count": 0
           },
           {
            "bin_start": -0.19999999999999996,
            "bin_end": -0.09999999999999998,
            "count": 0
           },
           {
            "bin_start": -0.09999999999999998,
            "bin_end": 0,
            "count": 0
           },
           {
            "bin_start": 0,
            "bin_end": 0.10000000000000009,
            "count": 5
           },
           {
            "bin_start": 0.10000000000000009,
            "bin_end": 0.20000000000000007,
            "count": 0
           },
           {
            "bin_start": 0.20000000000000007,
            "bin_end": 0.30000000000000004,
            "count": 0
           },
           {
            "bin_start": 0.30000000000000004,
            "bin_end": 0.4,
            "count": 0
           },
           {
            "bin_start": 0.4,
            "bin_end": 0.5,
            "count": 0
           }
          ]
         }
        },
        {
         "name": "Administrative_Duration",
         "dtype": "float64",
         "stats": {
          "unique_count": 1,
          "nan_count": 0,
          "min": "0.0",
          "max": "0.0",
          "histogram": [
           {
            "bin_start": -0.5,
            "bin_end": -0.4,
            "count": 0
           },
           {
            "bin_start": -0.4,
            "bin_end": -0.3,
            "count": 0
           },
           {
            "bin_start": -0.3,
            "bin_end": -0.19999999999999996,
            "count": 0
           },
           {
            "bin_start": -0.19999999999999996,
            "bin_end": -0.09999999999999998,
            "count": 0
           },
           {
            "bin_start": -0.09999999999999998,
            "bin_end": 0,
            "count": 0
           },
           {
            "bin_start": 0,
            "bin_end": 0.10000000000000009,
            "count": 5
           },
           {
            "bin_start": 0.10000000000000009,
            "bin_end": 0.20000000000000007,
            "count": 0
           },
           {
            "bin_start": 0.20000000000000007,
            "bin_end": 0.30000000000000004,
            "count": 0
           },
           {
            "bin_start": 0.30000000000000004,
            "bin_end": 0.4,
            "count": 0
           },
           {
            "bin_start": 0.4,
            "bin_end": 0.5,
            "count": 0
           }
          ]
         }
        },
        {
         "name": "Informational",
         "dtype": "float64",
         "stats": {
          "unique_count": 1,
          "nan_count": 0,
          "min": "0.0",
          "max": "0.0",
          "histogram": [
           {
            "bin_start": -0.5,
            "bin_end": -0.4,
            "count": 0
           },
           {
            "bin_start": -0.4,
            "bin_end": -0.3,
            "count": 0
           },
           {
            "bin_start": -0.3,
            "bin_end": -0.19999999999999996,
            "count": 0
           },
           {
            "bin_start": -0.19999999999999996,
            "bin_end": -0.09999999999999998,
            "count": 0
           },
           {
            "bin_start": -0.09999999999999998,
            "bin_end": 0,
            "count": 0
           },
           {
            "bin_start": 0,
            "bin_end": 0.10000000000000009,
            "count": 5
           },
           {
            "bin_start": 0.10000000000000009,
            "bin_end": 0.20000000000000007,
            "count": 0
           },
           {
            "bin_start": 0.20000000000000007,
            "bin_end": 0.30000000000000004,
            "count": 0
           },
           {
            "bin_start": 0.30000000000000004,
            "bin_end": 0.4,
            "count": 0
           },
           {
            "bin_start": 0.4,
            "bin_end": 0.5,
            "count": 0
           }
          ]
         }
        },
        {
         "name": "Informational_Duration",
         "dtype": "float64",
         "stats": {
          "unique_count": 1,
          "nan_count": 0,
          "min": "0.0",
          "max": "0.0",
          "histogram": [
           {
            "bin_start": -0.5,
            "bin_end": -0.4,
            "count": 0
           },
           {
            "bin_start": -0.4,
            "bin_end": -0.3,
            "count": 0
           },
           {
            "bin_start": -0.3,
            "bin_end": -0.19999999999999996,
            "count": 0
           },
           {
            "bin_start": -0.19999999999999996,
            "bin_end": -0.09999999999999998,
            "count": 0
           },
           {
            "bin_start": -0.09999999999999998,
            "bin_end": 0,
            "count": 0
           },
           {
            "bin_start": 0,
            "bin_end": 0.10000000000000009,
            "count": 5
           },
           {
            "bin_start": 0.10000000000000009,
            "bin_end": 0.20000000000000007,
            "count": 0
           },
           {
            "bin_start": 0.20000000000000007,
            "bin_end": 0.30000000000000004,
            "count": 0
           },
           {
            "bin_start": 0.30000000000000004,
            "bin_end": 0.4,
            "count": 0
           },
           {
            "bin_start": 0.4,
            "bin_end": 0.5,
            "count": 0
           }
          ]
         }
        },
        {
         "name": "ProductRelated",
         "dtype": "int64",
         "stats": {
          "unique_count": 3,
          "nan_count": 0,
          "min": "1",
          "max": "10",
          "histogram": [
           {
            "bin_start": 1,
            "bin_end": 1.9,
            "count": 2
           },
           {
            "bin_start": 1.9,
            "bin_end": 2.8,
            "count": 2
           },
           {
            "bin_start": 2.8,
            "bin_end": 3.7,
            "count": 0
           },
           {
            "bin_start": 3.7,
            "bin_end": 4.6,
            "count": 0
           },
           {
            "bin_start": 4.6,
            "bin_end": 5.5,
            "count": 0
           },
           {
            "bin_start": 5.5,
            "bin_end": 6.4,
            "count": 0
           },
           {
            "bin_start": 6.4,
            "bin_end": 7.3,
            "count": 0
           },
           {
            "bin_start": 7.3,
            "bin_end": 8.2,
            "count": 0
           },
           {
            "bin_start": 8.2,
            "bin_end": 9.1,
            "count": 0
           },
           {
            "bin_start": 9.1,
            "bin_end": 10,
            "count": 1
           }
          ]
         }
        },
        {
         "name": "ProductRelated_Duration",
         "dtype": "float64",
         "stats": {
          "unique_count": 4,
          "nan_count": 0,
          "min": "0.0",
          "max": "627.5",
          "histogram": [
           {
            "bin_start": 0,
            "bin_end": 62.75,
            "count": 3
           },
           {
            "bin_start": 62.75,
            "bin_end": 125.5,
            "count": 1
           },
           {
            "bin_start": 125.5,
            "bin_end": 188.25,
            "count": 0
           },
           {
            "bin_start": 188.25,
            "bin_end": 251,
            "count": 0
           },
           {
            "bin_start": 251,
            "bin_end": 313.75,
            "count": 0
           },
           {
            "bin_start": 313.75,
            "bin_end": 376.5,
            "count": 0
           },
           {
            "bin_start": 376.5,
            "bin_end": 439.25,
            "count": 0
           },
           {
            "bin_start": 439.25,
            "bin_end": 502,
            "count": 0
           },
           {
            "bin_start": 502,
            "bin_end": 564.75,
            "count": 0
           },
           {
            "bin_start": 564.75,
            "bin_end": 627.5,
            "count": 1
           }
          ]
         }
        },
        {
         "name": "BounceRates",
         "dtype": "float64",
         "stats": {
          "unique_count": 4,
          "nan_count": 0,
          "min": "0.0",
          "max": "0.2",
          "histogram": [
           {
            "bin_start": 0,
            "bin_end": 0.02,
            "count": 1
           },
           {
            "bin_start": 0.02,
            "bin_end": 0.04,
            "count": 1
           },
           {
            "bin_start": 0.04,
            "bin_end": 0.06,
            "count": 1
           },
           {
            "bin_start": 0.06,
            "bin_end": 0.08,
            "count": 0
           },
           {
            "bin_start": 0.08,
            "bin_end": 0.1,
            "count": 0
           },
           {
            "bin_start": 0.1,
            "bin_end": 0.12,
            "count": 0
           },
           {
            "bin_start": 0.12,
            "bin_end": 0.14,
            "count": 0
           },
           {
            "bin_start": 0.14,
            "bin_end": 0.16,
            "count": 0
           },
           {
            "bin_start": 0.16,
            "bin_end": 0.18,
            "count": 0
           },
           {
            "bin_start": 0.18,
            "bin_end": 0.2,
            "count": 2
           }
          ]
         }
        },
        {
         "name": "ExitRates",
         "dtype": "float64",
         "stats": {
          "unique_count": 4,
          "nan_count": 0,
          "min": "0.05",
          "max": "0.2",
          "histogram": [
           {
            "bin_start": 0.05,
            "bin_end": 0.065,
            "count": 1
           },
           {
            "bin_start": 0.065,
            "bin_end": 0.08000000000000002,
            "count": 0
           },
           {
            "bin_start": 0.08000000000000002,
            "bin_end": 0.09500000000000001,
            "count": 0
           },
           {
            "bin_start": 0.09500000000000001,
            "bin_end": 0.11000000000000001,
            "count": 1
           },
           {
            "bin_start": 0.11000000000000001,
            "bin_end": 0.125,
            "count": 0
           },
           {
            "bin_start": 0.125,
            "bin_end": 0.14,
            "count": 0
           },
           {
            "bin_start": 0.14,
            "bin_end": 0.15500000000000003,
            "count": 1
           },
           {
            "bin_start": 0.15500000000000003,
            "bin_end": 0.17000000000000004,
            "count": 0
           },
           {
            "bin_start": 0.17000000000000004,
            "bin_end": 0.18500000000000005,
            "count": 0
           },
           {
            "bin_start": 0.18500000000000005,
            "bin_end": 0.2,
            "count": 2
           }
          ]
         }
        },
        {
         "name": "PageValues",
         "dtype": "float64",
         "stats": {
          "unique_count": 1,
          "nan_count": 0,
          "min": "0.0",
          "max": "0.0",
          "histogram": [
           {
            "bin_start": -0.5,
            "bin_end": -0.4,
            "count": 0
           },
           {
            "bin_start": -0.4,
            "bin_end": -0.3,
            "count": 0
           },
           {
            "bin_start": -0.3,
            "bin_end": -0.19999999999999996,
            "count": 0
           },
           {
            "bin_start": -0.19999999999999996,
            "bin_end": -0.09999999999999998,
            "count": 0
           },
           {
            "bin_start": -0.09999999999999998,
            "bin_end": 0,
            "count": 0
           },
           {
            "bin_start": 0,
            "bin_end": 0.10000000000000009,
            "count": 5
           },
           {
            "bin_start": 0.10000000000000009,
            "bin_end": 0.20000000000000007,
            "count": 0
           },
           {
            "bin_start": 0.20000000000000007,
            "bin_end": 0.30000000000000004,
            "count": 0
           },
           {
            "bin_start": 0.30000000000000004,
            "bin_end": 0.4,
            "count": 0
           },
           {
            "bin_start": 0.4,
            "bin_end": 0.5,
            "count": 0
           }
          ]
         }
        },
        {
         "name": "SpecialDay",
         "dtype": "float64",
         "stats": {
          "unique_count": 1,
          "nan_count": 0,
          "min": "0.0",
          "max": "0.0",
          "histogram": [
           {
            "bin_start": -0.5,
            "bin_end": -0.4,
            "count": 0
           },
           {
            "bin_start": -0.4,
            "bin_end": -0.3,
            "count": 0
           },
           {
            "bin_start": -0.3,
            "bin_end": -0.19999999999999996,
            "count": 0
           },
           {
            "bin_start": -0.19999999999999996,
            "bin_end": -0.09999999999999998,
            "count": 0
           },
           {
            "bin_start": -0.09999999999999998,
            "bin_end": 0,
            "count": 0
           },
           {
            "bin_start": 0,
            "bin_end": 0.10000000000000009,
            "count": 5
           },
           {
            "bin_start": 0.10000000000000009,
            "bin_end": 0.20000000000000007,
            "count": 0
           },
           {
            "bin_start": 0.20000000000000007,
            "bin_end": 0.30000000000000004,
            "count": 0
           },
           {
            "bin_start": 0.30000000000000004,
            "bin_end": 0.4,
            "count": 0
           },
           {
            "bin_start": 0.4,
            "bin_end": 0.5,
            "count": 0
           }
          ]
         }
        },
        {
         "name": "Month",
         "dtype": "object",
         "stats": {
          "unique_count": 1,
          "nan_count": 0,
          "categories": [
           {
            "name": "Feb",
            "count": 5
           }
          ]
         }
        },
        {
         "name": "OperatingSystems",
         "dtype": "float64",
         "stats": {
          "unique_count": 4,
          "nan_count": 0,
          "min": "1.0",
          "max": "4.0",
          "histogram": [
           {
            "bin_start": 1,
            "bin_end": 1.3,
            "count": 1
           },
           {
            "bin_start": 1.3,
            "bin_end": 1.6,
            "count": 0
           },
           {
            "bin_start": 1.6,
            "bin_end": 1.9,
            "count": 0
           },
           {
            "bin_start": 1.9,
            "bin_end": 2.2,
            "count": 1
           },
           {
            "bin_start": 2.2,
            "bin_end": 2.5,
            "count": 0
           },
           {
            "bin_start": 2.5,
            "bin_end": 2.8,
            "count": 0
           },
           {
            "bin_start": 2.8,
            "bin_end": 3.1,
            "count": 2
           },
           {
            "bin_start": 3.1,
            "bin_end": 3.4,
            "count": 0
           },
           {
            "bin_start": 3.4,
            "bin_end": 3.6999999999999997,
            "count": 0
           },
           {
            "bin_start": 3.6999999999999997,
            "bin_end": 4,
            "count": 1
           }
          ]
         }
        },
        {
         "name": "Browser",
         "dtype": "int64",
         "stats": {
          "unique_count": 3,
          "nan_count": 0,
          "min": "1",
          "max": "3",
          "histogram": [
           {
            "bin_start": 1,
            "bin_end": 1.2,
            "count": 2
           },
           {
            "bin_start": 1.2,
            "bin_end": 1.4,
            "count": 0
           },
           {
            "bin_start": 1.4,
            "bin_end": 1.6,
            "count": 0
           },
           {
            "bin_start": 1.6,
            "bin_end": 1.8,
            "count": 0
           },
           {
            "bin_start": 1.8,
            "bin_end": 2,
            "count": 0
           },
           {
            "bin_start": 2,
            "bin_end": 2.2,
            "count": 2
           },
           {
            "bin_start": 2.2,
            "bin_end": 2.4000000000000004,
            "count": 0
           },
           {
            "bin_start": 2.4000000000000004,
            "bin_end": 2.6,
            "count": 0
           },
           {
            "bin_start": 2.6,
            "bin_end": 2.8,
            "count": 0
           },
           {
            "bin_start": 2.8,
            "bin_end": 3,
            "count": 1
           }
          ]
         }
        },
        {
         "name": "Region",
         "dtype": "int64",
         "stats": {
          "unique_count": 3,
          "nan_count": 0,
          "min": "1",
          "max": "9",
          "histogram": [
           {
            "bin_start": 1,
            "bin_end": 1.8,
            "count": 3
           },
           {
            "bin_start": 1.8,
            "bin_end": 2.6,
            "count": 1
           },
           {
            "bin_start": 2.6,
            "bin_end": 3.4000000000000004,
            "count": 0
           },
           {
            "bin_start": 3.4000000000000004,
            "bin_end": 4.2,
            "count": 0
           },
           {
            "bin_start": 4.2,
            "bin_end": 5,
            "count": 0
           },
           {
            "bin_start": 5,
            "bin_end": 5.800000000000001,
            "count": 0
           },
           {
            "bin_start": 5.800000000000001,
            "bin_end": 6.6000000000000005,
            "count": 0
           },
           {
            "bin_start": 6.6000000000000005,
            "bin_end": 7.4,
            "count": 0
           },
           {
            "bin_start": 7.4,
            "bin_end": 8.2,
            "count": 0
           },
           {
            "bin_start": 8.2,
            "bin_end": 9,
            "count": 1
           }
          ]
         }
        },
        {
         "name": "TrafficType",
         "dtype": "int64",
         "stats": {
          "unique_count": 4,
          "nan_count": 0,
          "min": "1",
          "max": "4",
          "histogram": [
           {
            "bin_start": 1,
            "bin_end": 1.3,
            "count": 1
           },
           {
            "bin_start": 1.3,
            "bin_end": 1.6,
            "count": 0
           },
           {
            "bin_start": 1.6,
            "bin_end": 1.9,
            "count": 0
           },
           {
            "bin_start": 1.9,
            "bin_end": 2.2,
            "count": 1
           },
           {
            "bin_start": 2.2,
            "bin_end": 2.5,
            "count": 0
           },
           {
            "bin_start": 2.5,
            "bin_end": 2.8,
            "count": 0
           },
           {
            "bin_start": 2.8,
            "bin_end": 3.1,
            "count": 1
           },
           {
            "bin_start": 3.1,
            "bin_end": 3.4,
            "count": 0
           },
           {
            "bin_start": 3.4,
            "bin_end": 3.6999999999999997,
            "count": 0
           },
           {
            "bin_start": 3.6999999999999997,
            "bin_end": 4,
            "count": 2
           }
          ]
         }
        },
        {
         "name": "VisitorType",
         "dtype": "object",
         "stats": {
          "unique_count": 1,
          "nan_count": 0,
          "categories": [
           {
            "name": "Returning_Visitor",
            "count": 5
           }
          ]
         }
        },
        {
         "name": "Weekend",
         "dtype": "bool",
         "stats": {
          "unique_count": 2,
          "nan_count": 0,
          "categories": [
           {
            "name": "False",
            "count": 4
           },
           {
            "name": "True",
            "count": 1
           }
          ]
         }
        },
        {
         "name": "Revenue",
         "dtype": "bool",
         "stats": {
          "unique_count": 1,
          "nan_count": 0,
          "categories": [
           {
            "name": "False",
            "count": 5
           }
          ]
         }
        },
        {
         "name": "_deepnote_index_column",
         "dtype": "int64"
        }
       ],
       "rows_top": [
        {
         "Administrative": 0,
         "Administrative_Duration": 0,
         "Informational": 0,
         "Informational_Duration": 0,
         "ProductRelated": 1,
         "ProductRelated_Duration": 0,
         "BounceRates": 0.2,
         "ExitRates": 0.2,
         "PageValues": 0,
         "SpecialDay": 0,
         "Month": "Feb",
         "OperatingSystems": 1,
         "Browser": 1,
         "Region": 1,
         "TrafficType": 1,
         "VisitorType": "Returning_Visitor",
         "Weekend": "False",
         "Revenue": "False",
         "_deepnote_index_column": 0
        },
        {
         "Administrative": 0,
         "Administrative_Duration": 0,
         "Informational": 0,
         "Informational_Duration": 0,
         "ProductRelated": 2,
         "ProductRelated_Duration": 64,
         "BounceRates": 0,
         "ExitRates": 0.1,
         "PageValues": 0,
         "SpecialDay": 0,
         "Month": "Feb",
         "OperatingSystems": 2,
         "Browser": 2,
         "Region": 1,
         "TrafficType": 2,
         "VisitorType": "Returning_Visitor",
         "Weekend": "False",
         "Revenue": "False",
         "_deepnote_index_column": 1
        },
        {
         "Administrative": 0,
         "Administrative_Duration": 0,
         "Informational": 0,
         "Informational_Duration": 0,
         "ProductRelated": 1,
         "ProductRelated_Duration": 0,
         "BounceRates": 0.2,
         "ExitRates": 0.2,
         "PageValues": 0,
         "SpecialDay": 0,
         "Month": "Feb",
         "OperatingSystems": 4,
         "Browser": 1,
         "Region": 9,
         "TrafficType": 3,
         "VisitorType": "Returning_Visitor",
         "Weekend": "False",
         "Revenue": "False",
         "_deepnote_index_column": 2
        },
        {
         "Administrative": 0,
         "Administrative_Duration": 0,
         "Informational": 0,
         "Informational_Duration": 0,
         "ProductRelated": 2,
         "ProductRelated_Duration": 2.666666667,
         "BounceRates": 0.05,
         "ExitRates": 0.14,
         "PageValues": 0,
         "SpecialDay": 0,
         "Month": "Feb",
         "OperatingSystems": 3,
         "Browser": 2,
         "Region": 2,
         "TrafficType": 4,
         "VisitorType": "Returning_Visitor",
         "Weekend": "False",
         "Revenue": "False",
         "_deepnote_index_column": 3
        },
        {
         "Administrative": 0,
         "Administrative_Duration": 0,
         "Informational": 0,
         "Informational_Duration": 0,
         "ProductRelated": 10,
         "ProductRelated_Duration": 627.5,
         "BounceRates": 0.02,
         "ExitRates": 0.05,
         "PageValues": 0,
         "SpecialDay": 0,
         "Month": "Feb",
         "OperatingSystems": 3,
         "Browser": 3,
         "Region": 1,
         "TrafficType": 4,
         "VisitorType": "Returning_Visitor",
         "Weekend": "True",
         "Revenue": "False",
         "_deepnote_index_column": 4
        }
       ],
       "rows_bottom": null
      },
      "text/plain": "   Administrative  Administrative_Duration  Informational  \\\n0               0                      0.0            0.0   \n1               0                      0.0            0.0   \n2               0                      0.0            0.0   \n3               0                      0.0            0.0   \n4               0                      0.0            0.0   \n\n   Informational_Duration  ProductRelated  ProductRelated_Duration  \\\n0                     0.0               1                 0.000000   \n1                     0.0               2                64.000000   \n2                     0.0               1                 0.000000   \n3                     0.0               2                 2.666667   \n4                     0.0              10               627.500000   \n\n   BounceRates  ExitRates  PageValues  SpecialDay Month  OperatingSystems  \\\n0         0.20       0.20         0.0         0.0   Feb               1.0   \n1         0.00       0.10         0.0         0.0   Feb               2.0   \n2         0.20       0.20         0.0         0.0   Feb               4.0   \n3         0.05       0.14         0.0         0.0   Feb               3.0   \n4         0.02       0.05         0.0         0.0   Feb               3.0   \n\n   Browser  Region  TrafficType        VisitorType  Weekend  Revenue  \n0        1       1            1  Returning_Visitor    False    False  \n1        2       1            2  Returning_Visitor    False    False  \n2        1       9            3  Returning_Visitor    False    False  \n3        2       2            4  Returning_Visitor    False    False  \n4        3       1            4  Returning_Visitor     True    False  ",
      "text/html": "<div>\n<style scoped>\n    .dataframe tbody tr th:only-of-type {\n        vertical-align: middle;\n    }\n\n    .dataframe tbody tr th {\n        vertical-align: top;\n    }\n\n    .dataframe thead th {\n        text-align: right;\n    }\n</style>\n<table border=\"1\" class=\"dataframe\">\n  <thead>\n    <tr style=\"text-align: right;\">\n      <th></th>\n      <th>Administrative</th>\n      <th>Administrative_Duration</th>\n      <th>Informational</th>\n      <th>Informational_Duration</th>\n      <th>ProductRelated</th>\n      <th>ProductRelated_Duration</th>\n      <th>BounceRates</th>\n      <th>ExitRates</th>\n      <th>PageValues</th>\n      <th>SpecialDay</th>\n      <th>Month</th>\n      <th>OperatingSystems</th>\n      <th>Browser</th>\n      <th>Region</th>\n      <th>TrafficType</th>\n      <th>VisitorType</th>\n      <th>Weekend</th>\n      <th>Revenue</th>\n    </tr>\n  </thead>\n  <tbody>\n    <tr>\n      <th>0</th>\n      <td>0</td>\n      <td>0.0</td>\n      <td>0.0</td>\n      <td>0.0</td>\n      <td>1</td>\n      <td>0.000000</td>\n      <td>0.20</td>\n      <td>0.20</td>\n      <td>0.0</td>\n      <td>0.0</td>\n      <td>Feb</td>\n      <td>1.0</td>\n      <td>1</td>\n      <td>1</td>\n      <td>1</td>\n      <td>Returning_Visitor</td>\n      <td>False</td>\n      <td>False</td>\n    </tr>\n    <tr>\n      <th>1</th>\n      <td>0</td>\n      <td>0.0</td>\n      <td>0.0</td>\n      <td>0.0</td>\n      <td>2</td>\n      <td>64.000000</td>\n      <td>0.00</td>\n      <td>0.10</td>\n      <td>0.0</td>\n      <td>0.0</td>\n      <td>Feb</td>\n      <td>2.0</td>\n      <td>2</td>\n      <td>1</td>\n      <td>2</td>\n      <td>Returning_Visitor</td>\n      <td>False</td>\n      <td>False</td>\n    </tr>\n    <tr>\n      <th>2</th>\n      <td>0</td>\n      <td>0.0</td>\n      <td>0.0</td>\n      <td>0.0</td>\n      <td>1</td>\n      <td>0.000000</td>\n      <td>0.20</td>\n      <td>0.20</td>\n      <td>0.0</td>\n      <td>0.0</td>\n      <td>Feb</td>\n      <td>4.0</td>\n      <td>1</td>\n      <td>9</td>\n      <td>3</td>\n      <td>Returning_Visitor</td>\n      <td>False</td>\n      <td>False</td>\n    </tr>\n    <tr>\n      <th>3</th>\n      <td>0</td>\n      <td>0.0</td>\n      <td>0.0</td>\n      <td>0.0</td>\n      <td>2</td>\n      <td>2.666667</td>\n      <td>0.05</td>\n      <td>0.14</td>\n      <td>0.0</td>\n      <td>0.0</td>\n      <td>Feb</td>\n      <td>3.0</td>\n      <td>2</td>\n      <td>2</td>\n      <td>4</td>\n      <td>Returning_Visitor</td>\n      <td>False</td>\n      <td>False</td>\n    </tr>\n    <tr>\n      <th>4</th>\n      <td>0</td>\n      <td>0.0</td>\n      <td>0.0</td>\n      <td>0.0</td>\n      <td>10</td>\n      <td>627.500000</td>\n      <td>0.02</td>\n      <td>0.05</td>\n      <td>0.0</td>\n      <td>0.0</td>\n      <td>Feb</td>\n      <td>3.0</td>\n      <td>3</td>\n      <td>1</td>\n      <td>4</td>\n      <td>Returning_Visitor</td>\n      <td>True</td>\n      <td>False</td>\n    </tr>\n  </tbody>\n</table>\n</div>"
     },
     "metadata": {}
    }
   ]
  },
  {
   "cell_type": "code",
   "metadata": {
    "cell_id": "00001-ec0105ca-c84b-4f0f-a904-c7ebfa327f06",
    "deepnote_to_be_reexecuted": false,
    "source_hash": "805f0ac4",
    "execution_start": 1630702150438,
    "execution_millis": 74,
    "deepnote_cell_type": "code"
   },
   "source": "# taking a look at data dims, shape, size, types, column names and overall info\n\nprint('Dimensions: ',table.ndim)\nprint('Shape: ',table.shape)\nprint('Size: ', table.size)\nprint('Data Type: ', table.dtypes)\nprint('Columns: ', table.columns)\nprint('Info: ', table.info)",
   "execution_count": 3,
   "outputs": [
    {
     "name": "stdout",
     "text": "Dimensions:  2\nShape:  (12330, 18)\nSize:  221940\nData Type:  Administrative               int64\nAdministrative_Duration    float64\nInformational              float64\nInformational_Duration     float64\nProductRelated               int64\nProductRelated_Duration    float64\nBounceRates                float64\nExitRates                  float64\nPageValues                 float64\nSpecialDay                 float64\nMonth                       object\nOperatingSystems           float64\nBrowser                      int64\nRegion                       int64\nTrafficType                  int64\nVisitorType                 object\nWeekend                       bool\nRevenue                       bool\ndtype: object\nColumns:  Index(['Administrative', 'Administrative_Duration', 'Informational',\n       'Informational_Duration', 'ProductRelated', 'ProductRelated_Duration',\n       'BounceRates', 'ExitRates', 'PageValues', 'SpecialDay', 'Month',\n       'OperatingSystems', 'Browser', 'Region', 'TrafficType', 'VisitorType',\n       'Weekend', 'Revenue'],\n      dtype='object')\nInfo:  <bound method DataFrame.info of        Administrative  Administrative_Duration  Informational  \\\n0                   0                      0.0            0.0   \n1                   0                      0.0            0.0   \n2                   0                      0.0            0.0   \n3                   0                      0.0            0.0   \n4                   0                      0.0            0.0   \n...               ...                      ...            ...   \n12325               3                    145.0            0.0   \n12326               0                      0.0            0.0   \n12327               0                      0.0            0.0   \n12328               4                     75.0            0.0   \n12329               0                      0.0            0.0   \n\n       Informational_Duration  ProductRelated  ProductRelated_Duration  \\\n0                         0.0               1                 0.000000   \n1                         0.0               2                64.000000   \n2                         0.0               1                 0.000000   \n3                         0.0               2                 2.666667   \n4                         0.0              10               627.500000   \n...                       ...             ...                      ...   \n12325                     0.0              53              1783.791667   \n12326                     0.0               5               465.750000   \n12327                     0.0               6               184.250000   \n12328                     0.0              15               346.000000   \n12329                     0.0               3                21.250000   \n\n       BounceRates  ExitRates  PageValues  SpecialDay Month  OperatingSystems  \\\n0         0.200000   0.200000    0.000000         0.0   Feb               1.0   \n1         0.000000   0.100000    0.000000         0.0   Feb               2.0   \n2         0.200000   0.200000    0.000000         0.0   Feb               4.0   \n3         0.050000   0.140000    0.000000         0.0   Feb               3.0   \n4         0.020000   0.050000    0.000000         0.0   Feb               3.0   \n...            ...        ...         ...         ...   ...               ...   \n12325     0.007143   0.029031   12.241717         0.0   Dec               4.0   \n12326     0.000000   0.021333    0.000000         0.0   Nov               3.0   \n12327     0.083333   0.086667    0.000000         0.0   Nov               3.0   \n12328     0.000000   0.021053    0.000000         0.0   Nov               2.0   \n12329     0.000000   0.066667    0.000000         0.0   Nov               3.0   \n\n       Browser  Region  TrafficType        VisitorType  Weekend  Revenue  \n0            1       1            1  Returning_Visitor    False    False  \n1            2       1            2  Returning_Visitor    False    False  \n2            1       9            3  Returning_Visitor    False    False  \n3            2       2            4  Returning_Visitor    False    False  \n4            3       1            4  Returning_Visitor     True    False  \n...        ...     ...          ...                ...      ...      ...  \n12325        6       1            1  Returning_Visitor     True    False  \n12326        2       1            8  Returning_Visitor     True    False  \n12327        2       1           13  Returning_Visitor     True    False  \n12328        2       3           11  Returning_Visitor    False    False  \n12329        2       1            2        New_Visitor     True    False  \n\n[12330 rows x 18 columns]>\n",
     "output_type": "stream"
    }
   ]
  },
  {
   "cell_type": "code",
   "metadata": {
    "scrolled": true,
    "cell_id": "00002-6a863cdf-be54-4af0-b1ac-4c6238369f41",
    "deepnote_to_be_reexecuted": false,
    "source_hash": "d740cbe",
    "execution_start": 1630702150516,
    "execution_millis": 45,
    "deepnote_cell_type": "code"
   },
   "source": "# worth noting, there are 12,330 rows and 18 columns\n# some data types may need to be changed\n# checking nulls in data\n\ntable.isnull().sum()",
   "execution_count": 4,
   "outputs": [
    {
     "output_type": "execute_result",
     "execution_count": 4,
     "data": {
      "text/plain": "Administrative               0\nAdministrative_Duration      0\nInformational              128\nInformational_Duration       0\nProductRelated               0\nProductRelated_Duration      0\nBounceRates                  0\nExitRates                    0\nPageValues                 135\nSpecialDay                   0\nMonth                        0\nOperatingSystems           123\nBrowser                      0\nRegion                       0\nTrafficType                  0\nVisitorType                  0\nWeekend                      0\nRevenue                      0\ndtype: int64"
     },
     "metadata": {}
    }
   ]
  },
  {
   "cell_type": "code",
   "metadata": {
    "tags": [],
    "cell_id": "00003-c37d3fb3-ac41-486c-9c39-96518965dd82",
    "deepnote_to_be_reexecuted": false,
    "source_hash": "d23d521c",
    "execution_start": 1630702150565,
    "execution_millis": 211,
    "deepnote_cell_type": "code"
   },
   "source": "# viewing descriptive statistics for all columns of dataset\n\ntable.describe()",
   "execution_count": 5,
   "outputs": [
    {
     "output_type": "execute_result",
     "execution_count": 5,
     "data": {
      "application/vnd.deepnote.dataframe.v2+json": {
       "row_count": 8,
       "column_count": 14,
       "columns": [
        {
         "name": "Administrative",
         "dtype": "float64",
         "stats": {
          "unique_count": 7,
          "nan_count": 0,
          "min": "0.0",
          "max": "12330.0",
          "histogram": [
           {
            "bin_start": 0,
            "bin_end": 1233,
            "count": 7
           },
           {
            "bin_start": 1233,
            "bin_end": 2466,
            "count": 0
           },
           {
            "bin_start": 2466,
            "bin_end": 3699,
            "count": 0
           },
           {
            "bin_start": 3699,
            "bin_end": 4932,
            "count": 0
           },
           {
            "bin_start": 4932,
            "bin_end": 6165,
            "count": 0
           },
           {
            "bin_start": 6165,
            "bin_end": 7398,
            "count": 0
           },
           {
            "bin_start": 7398,
            "bin_end": 8631,
            "count": 0
           },
           {
            "bin_start": 8631,
            "bin_end": 9864,
            "count": 0
           },
           {
            "bin_start": 9864,
            "bin_end": 11097,
            "count": 0
           },
           {
            "bin_start": 11097,
            "bin_end": 12330,
            "count": 1
           }
          ]
         }
        },
        {
         "name": "Administrative_Duration",
         "dtype": "float64",
         "stats": {
          "unique_count": 7,
          "nan_count": 0,
          "min": "0.0",
          "max": "12330.0",
          "histogram": [
           {
            "bin_start": 0,
            "bin_end": 1233,
            "count": 6
           },
           {
            "bin_start": 1233,
            "bin_end": 2466,
            "count": 0
           },
           {
            "bin_start": 2466,
            "bin_end": 3699,
            "count": 1
           },
           {
            "bin_start": 3699,
            "bin_end": 4932,
            "count": 0
           },
           {
            "bin_start": 4932,
            "bin_end": 6165,
            "count": 0
           },
           {
            "bin_start": 6165,
            "bin_end": 7398,
            "count": 0
           },
           {
            "bin_start": 7398,
            "bin_end": 8631,
            "count": 0
           },
           {
            "bin_start": 8631,
            "bin_end": 9864,
            "count": 0
           },
           {
            "bin_start": 9864,
            "bin_end": 11097,
            "count": 0
           },
           {
            "bin_start": 11097,
            "bin_end": 12330,
            "count": 1
           }
          ]
         }
        },
        {
         "name": "Informational",
         "dtype": "float64",
         "stats": {
          "unique_count": 5,
          "nan_count": 0,
          "min": "0.0",
          "max": "12202.0",
          "histogram": [
           {
            "bin_start": 0,
            "bin_end": 1220.2,
            "count": 7
           },
           {
            "bin_start": 1220.2,
            "bin_end": 2440.4,
            "count": 0
           },
           {
            "bin_start": 2440.4,
            "bin_end": 3660.6000000000004,
            "count": 0
           },
           {
            "bin_start": 3660.6000000000004,
            "bin_end": 4880.8,
            "count": 0
           },
           {
            "bin_start": 4880.8,
            "bin_end": 6101,
            "count": 0
           },
           {
            "bin_start": 6101,
            "bin_end": 7321.200000000001,
            "count": 0
           },
           {
            "bin_start": 7321.200000000001,
            "bin_end": 8541.4,
            "count": 0
           },
           {
            "bin_start": 8541.4,
            "bin_end": 9761.6,
            "count": 0
           },
           {
            "bin_start": 9761.6,
            "bin_end": 10981.800000000001,
            "count": 0
           },
           {
            "bin_start": 10981.800000000001,
            "bin_end": 12202,
            "count": 1
           }
          ]
         }
        },
        {
         "name": "Informational_Duration",
         "dtype": "float64",
         "stats": {
          "unique_count": 5,
          "nan_count": 0,
          "min": "0.0",
          "max": "12330.0",
          "histogram": [
           {
            "bin_start": 0,
            "bin_end": 1233,
            "count": 6
           },
           {
            "bin_start": 1233,
            "bin_end": 2466,
            "count": 0
           },
           {
            "bin_start": 2466,
            "bin_end": 3699,
            "count": 1
           },
           {
            "bin_start": 3699,
            "bin_end": 4932,
            "count": 0
           },
           {
            "bin_start": 4932,
            "bin_end": 6165,
            "count": 0
           },
           {
            "bin_start": 6165,
            "bin_end": 7398,
            "count": 0
           },
           {
            "bin_start": 7398,
            "bin_end": 8631,
            "count": 0
           },
           {
            "bin_start": 8631,
            "bin_end": 9864,
            "count": 0
           },
           {
            "bin_start": 9864,
            "bin_end": 11097,
            "count": 0
           },
           {
            "bin_start": 11097,
            "bin_end": 12330,
            "count": 1
           }
          ]
         }
        },
        {
         "name": "ProductRelated",
         "dtype": "float64",
         "stats": {
          "unique_count": 8,
          "nan_count": 0,
          "min": "0.0",
          "max": "12330.0",
          "histogram": [
           {
            "bin_start": 0,
            "bin_end": 1233,
            "count": 7
           },
           {
            "bin_start": 1233,
            "bin_end": 2466,
            "count": 0
           },
           {
            "bin_start": 2466,
            "bin_end": 3699,
            "count": 0
           },
           {
            "bin_start": 3699,
            "bin_end": 4932,
            "count": 0
           },
           {
            "bin_start": 4932,
            "bin_end": 6165,
            "count": 0
           },
           {
            "bin_start": 6165,
            "bin_end": 7398,
            "count": 0
           },
           {
            "bin_start": 7398,
            "bin_end": 8631,
            "count": 0
           },
           {
            "bin_start": 8631,
            "bin_end": 9864,
            "count": 0
           },
           {
            "bin_start": 9864,
            "bin_end": 11097,
            "count": 0
           },
           {
            "bin_start": 11097,
            "bin_end": 12330,
            "count": 1
           }
          ]
         }
        },
        {
         "name": "ProductRelated_Duration",
         "dtype": "float64",
         "stats": {
          "unique_count": 8,
          "nan_count": 0,
          "min": "0.0",
          "max": "63973.52223",
          "histogram": [
           {
            "bin_start": 0,
            "bin_end": 6397.352223,
            "count": 6
           },
           {
            "bin_start": 6397.352223,
            "bin_end": 12794.704446,
            "count": 1
           },
           {
            "bin_start": 12794.704446,
            "bin_end": 19192.056668999998,
            "count": 0
           },
           {
            "bin_start": 19192.056668999998,
            "bin_end": 25589.408892,
            "count": 0
           },
           {
            "bin_start": 25589.408892,
            "bin_end": 31986.761115,
            "count": 0
           },
           {
            "bin_start": 31986.761115,
            "bin_end": 38384.113337999996,
            "count": 0
           },
           {
            "bin_start": 38384.113337999996,
            "bin_end": 44781.465561,
            "count": 0
           },
           {
            "bin_start": 44781.465561,
            "bin_end": 51178.817784,
            "count": 0
           },
           {
            "bin_start": 51178.817784,
            "bin_end": 57576.170007,
            "count": 0
           },
           {
            "bin_start": 57576.170007,
            "bin_end": 63973.52223,
            "count": 1
           }
          ]
         }
        },
        {
         "name": "BounceRates",
         "dtype": "float64",
         "stats": {
          "unique_count": 7,
          "nan_count": 0,
          "min": "0.0",
          "max": "12330.0",
          "histogram": [
           {
            "bin_start": 0,
            "bin_end": 1233,
            "count": 7
           },
           {
            "bin_start": 1233,
            "bin_end": 2466,
            "count": 0
           },
           {
            "bin_start": 2466,
            "bin_end": 3699,
            "count": 0
           },
           {
            "bin_start": 3699,
            "bin_end": 4932,
            "count": 0
           },
           {
            "bin_start": 4932,
            "bin_end": 6165,
            "count": 0
           },
           {
            "bin_start": 6165,
            "bin_end": 7398,
            "count": 0
           },
           {
            "bin_start": 7398,
            "bin_end": 8631,
            "count": 0
           },
           {
            "bin_start": 8631,
            "bin_end": 9864,
            "count": 0
           },
           {
            "bin_start": 9864,
            "bin_end": 11097,
            "count": 0
           },
           {
            "bin_start": 11097,
            "bin_end": 12330,
            "count": 1
           }
          ]
         }
        },
        {
         "name": "ExitRates",
         "dtype": "float64",
         "stats": {
          "unique_count": 8,
          "nan_count": 0,
          "min": "0.0",
          "max": "12330.0",
          "histogram": [
           {
            "bin_start": 0,
            "bin_end": 1233,
            "count": 7
           },
           {
            "bin_start": 1233,
            "bin_end": 2466,
            "count": 0
           },
           {
            "bin_start": 2466,
            "bin_end": 3699,
            "count": 0
           },
           {
            "bin_start": 3699,
            "bin_end": 4932,
            "count": 0
           },
           {
            "bin_start": 4932,
            "bin_end": 6165,
            "count": 0
           },
           {
            "bin_start": 6165,
            "bin_end": 7398,
            "count": 0
           },
           {
            "bin_start": 7398,
            "bin_end": 8631,
            "count": 0
           },
           {
            "bin_start": 8631,
            "bin_end": 9864,
            "count": 0
           },
           {
            "bin_start": 9864,
            "bin_end": 11097,
            "count": 0
           },
           {
            "bin_start": 11097,
            "bin_end": 12330,
            "count": 1
           }
          ]
         }
        },
        {
         "name": "PageValues",
         "dtype": "float64",
         "stats": {
          "unique_count": 5,
          "nan_count": 0,
          "min": "0.0",
          "max": "12195.0",
          "histogram": [
           {
            "bin_start": 0,
            "bin_end": 1219.5,
            "count": 7
           },
           {
            "bin_start": 1219.5,
            "bin_end": 2439,
            "count": 0
           },
           {
            "bin_start": 2439,
            "bin_end": 3658.5,
            "count": 0
           },
           {
            "bin_start": 3658.5,
            "bin_end": 4878,
            "count": 0
           },
           {
            "bin_start": 4878,
            "bin_end": 6097.5,
            "count": 0
           },
           {
            "bin_start": 6097.5,
            "bin_end": 7317,
            "count": 0
           },
           {
            "bin_start": 7317,
            "bin_end": 8536.5,
            "count": 0
           },
           {
            "bin_start": 8536.5,
            "bin_end": 9756,
            "count": 0
           },
           {
            "bin_start": 9756,
            "bin_end": 10975.5,
            "count": 0
           },
           {
            "bin_start": 10975.5,
            "bin_end": 12195,
            "count": 1
           }
          ]
         }
        },
        {
         "name": "SpecialDay",
         "dtype": "float64",
         "stats": {
          "unique_count": 5,
          "nan_count": 0,
          "min": "0.0",
          "max": "12330.0",
          "histogram": [
           {
            "bin_start": 0,
            "bin_end": 1233,
            "count": 7
           },
           {
            "bin_start": 1233,
            "bin_end": 2466,
            "count": 0
           },
           {
            "bin_start": 2466,
            "bin_end": 3699,
            "count": 0
           },
           {
            "bin_start": 3699,
            "bin_end": 4932,
            "count": 0
           },
           {
            "bin_start": 4932,
            "bin_end": 6165,
            "count": 0
           },
           {
            "bin_start": 6165,
            "bin_end": 7398,
            "count": 0
           },
           {
            "bin_start": 7398,
            "bin_end": 8631,
            "count": 0
           },
           {
            "bin_start": 8631,
            "bin_end": 9864,
            "count": 0
           },
           {
            "bin_start": 9864,
            "bin_end": 11097,
            "count": 0
           },
           {
            "bin_start": 11097,
            "bin_end": 12330,
            "count": 1
           }
          ]
         }
        },
        {
         "name": "OperatingSystems",
         "dtype": "float64",
         "stats": {
          "unique_count": 7,
          "nan_count": 0,
          "min": "0.9118290236414558",
          "max": "12207.0",
          "histogram": [
           {
            "bin_start": 0.9118290236414558,
            "bin_end": 1221.5206461212774,
            "count": 7
           },
           {
            "bin_start": 1221.5206461212774,
            "bin_end": 2442.1294632189133,
            "count": 0
           },
           {
            "bin_start": 2442.1294632189133,
            "bin_end": 3662.738280316549,
            "count": 0
           },
           {
            "bin_start": 3662.738280316549,
            "bin_end": 4883.347097414185,
            "count": 0
           },
           {
            "bin_start": 4883.347097414185,
            "bin_end": 6103.955914511821,
            "count": 0
           },
           {
            "bin_start": 6103.955914511821,
            "bin_end": 7324.564731609456,
            "count": 0
           },
           {
            "bin_start": 7324.564731609456,
            "bin_end": 8545.173548707093,
            "count": 0
           },
           {
            "bin_start": 8545.173548707093,
            "bin_end": 9765.78236580473,
            "count": 0
           },
           {
            "bin_start": 9765.78236580473,
            "bin_end": 10986.391182902365,
            "count": 0
           },
           {
            "bin_start": 10986.391182902365,
            "bin_end": 12207,
            "count": 1
           }
          ]
         }
        },
        {
         "name": "Browser",
         "dtype": "float64",
         "stats": {
          "unique_count": 6,
          "nan_count": 0,
          "min": "1.0",
          "max": "12330.0",
          "histogram": [
           {
            "bin_start": 1,
            "bin_end": 1233.9,
            "count": 7
           },
           {
            "bin_start": 1233.9,
            "bin_end": 2466.8,
            "count": 0
           },
           {
            "bin_start": 2466.8,
            "bin_end": 3699.7000000000003,
            "count": 0
           },
           {
            "bin_start": 3699.7000000000003,
            "bin_end": 4932.6,
            "count": 0
           },
           {
            "bin_start": 4932.6,
            "bin_end": 6165.5,
            "count": 0
           },
           {
            "bin_start": 6165.5,
            "bin_end": 7398.400000000001,
            "count": 0
           },
           {
            "bin_start": 7398.400000000001,
            "bin_end": 8631.300000000001,
            "count": 0
           },
           {
            "bin_start": 8631.300000000001,
            "bin_end": 9864.2,
            "count": 0
           },
           {
            "bin_start": 9864.2,
            "bin_end": 11097.1,
            "count": 0
           },
           {
            "bin_start": 11097.1,
            "bin_end": 12330,
            "count": 1
           }
          ]
         }
        },
        {
         "name": "Region",
         "dtype": "float64",
         "stats": {
          "unique_count": 7,
          "nan_count": 0,
          "min": "1.0",
          "max": "12330.0",
          "histogram": [
           {
            "bin_start": 1,
            "bin_end": 1233.9,
            "count": 7
           },
           {
            "bin_start": 1233.9,
            "bin_end": 2466.8,
            "count": 0
           },
           {
            "bin_start": 2466.8,
            "bin_end": 3699.7000000000003,
            "count": 0
           },
           {
            "bin_start": 3699.7000000000003,
            "bin_end": 4932.6,
            "count": 0
           },
           {
            "bin_start": 4932.6,
            "bin_end": 6165.5,
            "count": 0
           },
           {
            "bin_start": 6165.5,
            "bin_end": 7398.400000000001,
            "count": 0
           },
           {
            "bin_start": 7398.400000000001,
            "bin_end": 8631.300000000001,
            "count": 0
           },
           {
            "bin_start": 8631.300000000001,
            "bin_end": 9864.2,
            "count": 0
           },
           {
            "bin_start": 9864.2,
            "bin_end": 11097.1,
            "count": 0
           },
           {
            "bin_start": 11097.1,
            "bin_end": 12330,
            "count": 1
           }
          ]
         }
        },
        {
         "name": "TrafficType",
         "dtype": "float64",
         "stats": {
          "unique_count": 7,
          "nan_count": 0,
          "min": "1.0",
          "max": "12330.0",
          "histogram": [
           {
            "bin_start": 1,
            "bin_end": 1233.9,
            "count": 7
           },
           {
            "bin_start": 1233.9,
            "bin_end": 2466.8,
            "count": 0
           },
           {
            "bin_start": 2466.8,
            "bin_end": 3699.7000000000003,
            "count": 0
           },
           {
            "bin_start": 3699.7000000000003,
            "bin_end": 4932.6,
            "count": 0
           },
           {
            "bin_start": 4932.6,
            "bin_end": 6165.5,
            "count": 0
           },
           {
            "bin_start": 6165.5,
            "bin_end": 7398.400000000001,
            "count": 0
           },
           {
            "bin_start": 7398.400000000001,
            "bin_end": 8631.300000000001,
            "count": 0
           },
           {
            "bin_start": 8631.300000000001,
            "bin_end": 9864.2,
            "count": 0
           },
           {
            "bin_start": 9864.2,
            "bin_end": 11097.1,
            "count": 0
           },
           {
            "bin_start": 11097.1,
            "bin_end": 12330,
            "count": 1
           }
          ]
         }
        },
        {
         "name": "_deepnote_index_column",
         "dtype": "object"
        }
       ],
       "rows_top": [
        {
         "Administrative": 12330,
         "Administrative_Duration": 12330,
         "Informational": 12202,
         "Informational_Duration": 12330,
         "ProductRelated": 12330,
         "ProductRelated_Duration": 12330,
         "BounceRates": 12330,
         "ExitRates": 12330,
         "PageValues": 12195,
         "SpecialDay": 12330,
         "OperatingSystems": 12207,
         "Browser": 12330,
         "Region": 12330,
         "TrafficType": 12330,
         "_deepnote_index_column": "count"
        },
        {
         "Administrative": 2.3151662611516626,
         "Administrative_Duration": 80.81861053933592,
         "Informational": 0.5037698737911818,
         "Informational_Duration": 34.47239792772304,
         "ProductRelated": 31.731467964314678,
         "ProductRelated_Duration": 1194.7462199688268,
         "BounceRates": 0.02219138047072181,
         "ExitRates": 0.04307279776650446,
         "PageValues": 5.911195928555637,
         "SpecialDay": 0.061427412814274135,
         "OperatingSystems": 2.123617596461047,
         "Browser": 2.357096512570965,
         "Region": 3.1473641524736413,
         "TrafficType": 4.069586374695864,
         "_deepnote_index_column": "mean"
        },
        {
         "Administrative": 3.3217841061569113,
         "Administrative_Duration": 176.77910747048634,
         "Informational": 1.2708816948952932,
         "Informational_Duration": 140.74929442219798,
         "ProductRelated": 44.47550330493652,
         "ProductRelated_Duration": 1913.6692878720035,
         "BounceRates": 0.04848832180626067,
         "ExitRates": 0.048596540551443565,
         "PageValues": 18.632115552408937,
         "SpecialDay": 0.19891727315262864,
         "OperatingSystems": 0.9118290236414558,
         "Browser": 1.7172766755534394,
         "Region": 2.401591236743714,
         "TrafficType": 4.025169160452515,
         "_deepnote_index_column": "std"
        },
        {
         "Administrative": 0,
         "Administrative_Duration": 0,
         "Informational": 0,
         "Informational_Duration": 0,
         "ProductRelated": 0,
         "ProductRelated_Duration": 0,
         "BounceRates": 0,
         "ExitRates": 0,
         "PageValues": 0,
         "SpecialDay": 0,
         "OperatingSystems": 1,
         "Browser": 1,
         "Region": 1,
         "TrafficType": 1,
         "_deepnote_index_column": "min"
        },
        {
         "Administrative": 0,
         "Administrative_Duration": 0,
         "Informational": 0,
         "Informational_Duration": 0,
         "ProductRelated": 7,
         "ProductRelated_Duration": 184.1375,
         "BounceRates": 0,
         "ExitRates": 0.014285714,
         "PageValues": 0,
         "SpecialDay": 0,
         "OperatingSystems": 2,
         "Browser": 2,
         "Region": 1,
         "TrafficType": 2,
         "_deepnote_index_column": "25%"
        },
        {
         "Administrative": 1,
         "Administrative_Duration": 7.5,
         "Informational": 0,
         "Informational_Duration": 0,
         "ProductRelated": 18,
         "ProductRelated_Duration": 598.9369047499999,
         "BounceRates": 0.00311246749999995,
         "ExitRates": 0.0251564025,
         "PageValues": 0,
         "SpecialDay": 0,
         "OperatingSystems": 2,
         "Browser": 2,
         "Region": 3,
         "TrafficType": 2,
         "_deepnote_index_column": "50%"
        },
        {
         "Administrative": 4,
         "Administrative_Duration": 93.25625,
         "Informational": 0,
         "Informational_Duration": 0,
         "ProductRelated": 38,
         "ProductRelated_Duration": 1464.1572135000001,
         "BounceRates": 0.016812558499999998,
         "ExitRates": 0.05,
         "PageValues": 0,
         "SpecialDay": 0,
         "OperatingSystems": 3,
         "Browser": 2,
         "Region": 4,
         "TrafficType": 4,
         "_deepnote_index_column": "75%"
        },
        {
         "Administrative": 27,
         "Administrative_Duration": 3398.75,
         "Informational": 24,
         "Informational_Duration": 2549.375,
         "ProductRelated": 705,
         "ProductRelated_Duration": 63973.52223,
         "BounceRates": 0.2,
         "ExitRates": 0.2,
         "PageValues": 361.7637419,
         "SpecialDay": 1,
         "OperatingSystems": 8,
         "Browser": 13,
         "Region": 9,
         "TrafficType": 20,
         "_deepnote_index_column": "max"
        }
       ],
       "rows_bottom": null
      },
      "text/plain": "       Administrative  Administrative_Duration  Informational  \\\ncount    12330.000000             12330.000000   12202.000000   \nmean         2.315166                80.818611       0.503770   \nstd          3.321784               176.779107       1.270882   \nmin          0.000000                 0.000000       0.000000   \n25%          0.000000                 0.000000       0.000000   \n50%          1.000000                 7.500000       0.000000   \n75%          4.000000                93.256250       0.000000   \nmax         27.000000              3398.750000      24.000000   \n\n       Informational_Duration  ProductRelated  ProductRelated_Duration  \\\ncount            12330.000000    12330.000000             12330.000000   \nmean                34.472398       31.731468              1194.746220   \nstd                140.749294       44.475503              1913.669288   \nmin                  0.000000        0.000000                 0.000000   \n25%                  0.000000        7.000000               184.137500   \n50%                  0.000000       18.000000               598.936905   \n75%                  0.000000       38.000000              1464.157214   \nmax               2549.375000      705.000000             63973.522230   \n\n        BounceRates     ExitRates    PageValues    SpecialDay  \\\ncount  12330.000000  12330.000000  12195.000000  12330.000000   \nmean       0.022191      0.043073      5.911196      0.061427   \nstd        0.048488      0.048597     18.632116      0.198917   \nmin        0.000000      0.000000      0.000000      0.000000   \n25%        0.000000      0.014286      0.000000      0.000000   \n50%        0.003112      0.025156      0.000000      0.000000   \n75%        0.016813      0.050000      0.000000      0.000000   \nmax        0.200000      0.200000    361.763742      1.000000   \n\n       OperatingSystems       Browser        Region   TrafficType  \ncount      12207.000000  12330.000000  12330.000000  12330.000000  \nmean           2.123618      2.357097      3.147364      4.069586  \nstd            0.911829      1.717277      2.401591      4.025169  \nmin            1.000000      1.000000      1.000000      1.000000  \n25%            2.000000      2.000000      1.000000      2.000000  \n50%            2.000000      2.000000      3.000000      2.000000  \n75%            3.000000      2.000000      4.000000      4.000000  \nmax            8.000000     13.000000      9.000000     20.000000  ",
      "text/html": "<div>\n<style scoped>\n    .dataframe tbody tr th:only-of-type {\n        vertical-align: middle;\n    }\n\n    .dataframe tbody tr th {\n        vertical-align: top;\n    }\n\n    .dataframe thead th {\n        text-align: right;\n    }\n</style>\n<table border=\"1\" class=\"dataframe\">\n  <thead>\n    <tr style=\"text-align: right;\">\n      <th></th>\n      <th>Administrative</th>\n      <th>Administrative_Duration</th>\n      <th>Informational</th>\n      <th>Informational_Duration</th>\n      <th>ProductRelated</th>\n      <th>ProductRelated_Duration</th>\n      <th>BounceRates</th>\n      <th>ExitRates</th>\n      <th>PageValues</th>\n      <th>SpecialDay</th>\n      <th>OperatingSystems</th>\n      <th>Browser</th>\n      <th>Region</th>\n      <th>TrafficType</th>\n    </tr>\n  </thead>\n  <tbody>\n    <tr>\n      <th>count</th>\n      <td>12330.000000</td>\n      <td>12330.000000</td>\n      <td>12202.000000</td>\n      <td>12330.000000</td>\n      <td>12330.000000</td>\n      <td>12330.000000</td>\n      <td>12330.000000</td>\n      <td>12330.000000</td>\n      <td>12195.000000</td>\n      <td>12330.000000</td>\n      <td>12207.000000</td>\n      <td>12330.000000</td>\n      <td>12330.000000</td>\n      <td>12330.000000</td>\n    </tr>\n    <tr>\n      <th>mean</th>\n      <td>2.315166</td>\n      <td>80.818611</td>\n      <td>0.503770</td>\n      <td>34.472398</td>\n      <td>31.731468</td>\n      <td>1194.746220</td>\n      <td>0.022191</td>\n      <td>0.043073</td>\n      <td>5.911196</td>\n      <td>0.061427</td>\n      <td>2.123618</td>\n      <td>2.357097</td>\n      <td>3.147364</td>\n      <td>4.069586</td>\n    </tr>\n    <tr>\n      <th>std</th>\n      <td>3.321784</td>\n      <td>176.779107</td>\n      <td>1.270882</td>\n      <td>140.749294</td>\n      <td>44.475503</td>\n      <td>1913.669288</td>\n      <td>0.048488</td>\n      <td>0.048597</td>\n      <td>18.632116</td>\n      <td>0.198917</td>\n      <td>0.911829</td>\n      <td>1.717277</td>\n      <td>2.401591</td>\n      <td>4.025169</td>\n    </tr>\n    <tr>\n      <th>min</th>\n      <td>0.000000</td>\n      <td>0.000000</td>\n      <td>0.000000</td>\n      <td>0.000000</td>\n      <td>0.000000</td>\n      <td>0.000000</td>\n      <td>0.000000</td>\n      <td>0.000000</td>\n      <td>0.000000</td>\n      <td>0.000000</td>\n      <td>1.000000</td>\n      <td>1.000000</td>\n      <td>1.000000</td>\n      <td>1.000000</td>\n    </tr>\n    <tr>\n      <th>25%</th>\n      <td>0.000000</td>\n      <td>0.000000</td>\n      <td>0.000000</td>\n      <td>0.000000</td>\n      <td>7.000000</td>\n      <td>184.137500</td>\n      <td>0.000000</td>\n      <td>0.014286</td>\n      <td>0.000000</td>\n      <td>0.000000</td>\n      <td>2.000000</td>\n      <td>2.000000</td>\n      <td>1.000000</td>\n      <td>2.000000</td>\n    </tr>\n    <tr>\n      <th>50%</th>\n      <td>1.000000</td>\n      <td>7.500000</td>\n      <td>0.000000</td>\n      <td>0.000000</td>\n      <td>18.000000</td>\n      <td>598.936905</td>\n      <td>0.003112</td>\n      <td>0.025156</td>\n      <td>0.000000</td>\n      <td>0.000000</td>\n      <td>2.000000</td>\n      <td>2.000000</td>\n      <td>3.000000</td>\n      <td>2.000000</td>\n    </tr>\n    <tr>\n      <th>75%</th>\n      <td>4.000000</td>\n      <td>93.256250</td>\n      <td>0.000000</td>\n      <td>0.000000</td>\n      <td>38.000000</td>\n      <td>1464.157214</td>\n      <td>0.016813</td>\n      <td>0.050000</td>\n      <td>0.000000</td>\n      <td>0.000000</td>\n      <td>3.000000</td>\n      <td>2.000000</td>\n      <td>4.000000</td>\n      <td>4.000000</td>\n    </tr>\n    <tr>\n      <th>max</th>\n      <td>27.000000</td>\n      <td>3398.750000</td>\n      <td>24.000000</td>\n      <td>2549.375000</td>\n      <td>705.000000</td>\n      <td>63973.522230</td>\n      <td>0.200000</td>\n      <td>0.200000</td>\n      <td>361.763742</td>\n      <td>1.000000</td>\n      <td>8.000000</td>\n      <td>13.000000</td>\n      <td>9.000000</td>\n      <td>20.000000</td>\n    </tr>\n  </tbody>\n</table>\n</div>"
     },
     "metadata": {}
    }
   ]
  },
  {
   "cell_type": "code",
   "metadata": {
    "scrolled": true,
    "cell_id": "00003-e6d29160-57b1-4b56-a3fe-6859079518b7",
    "deepnote_to_be_reexecuted": false,
    "source_hash": "6f3d5a0a",
    "execution_start": 1630702150823,
    "execution_millis": 6,
    "deepnote_cell_type": "code"
   },
   "source": "# The null value for the data are within the parameters Informational, PageValues and Operating systems. \n# While there aren't many overall nulls compared to the amount of data, they can easily be filled\n# for Informational and Page Values, at least 75% of the data is 0, which is the mode and median\n# Operating system should be an integer, so we'll go with median as well\n\n\ntable['Informational']=table['Informational'].fillna(table['Informational'].median())\n\ntable['PageValues']=table['PageValues'].fillna(table['PageValues'].median())\n\ntable['OperatingSystems']=table['OperatingSystems'].fillna(table['OperatingSystems'].median())\n\ntable.isnull().sum()",
   "execution_count": 6,
   "outputs": [
    {
     "output_type": "execute_result",
     "execution_count": 6,
     "data": {
      "text/plain": "Administrative             0\nAdministrative_Duration    0\nInformational              0\nInformational_Duration     0\nProductRelated             0\nProductRelated_Duration    0\nBounceRates                0\nExitRates                  0\nPageValues                 0\nSpecialDay                 0\nMonth                      0\nOperatingSystems           0\nBrowser                    0\nRegion                     0\nTrafficType                0\nVisitorType                0\nWeekend                    0\nRevenue                    0\ndtype: int64"
     },
     "metadata": {}
    }
   ]
  },
  {
   "cell_type": "code",
   "metadata": {
    "tags": [],
    "cell_id": "00006-41674a99-8b5d-40ee-ad90-53b70a7209b1",
    "deepnote_to_be_reexecuted": false,
    "source_hash": "ea8efdb3",
    "execution_start": 1630702150824,
    "execution_millis": 49,
    "deepnote_cell_type": "code"
   },
   "source": "table.dtypes",
   "execution_count": 7,
   "outputs": [
    {
     "output_type": "execute_result",
     "execution_count": 7,
     "data": {
      "text/plain": "Administrative               int64\nAdministrative_Duration    float64\nInformational              float64\nInformational_Duration     float64\nProductRelated               int64\nProductRelated_Duration    float64\nBounceRates                float64\nExitRates                  float64\nPageValues                 float64\nSpecialDay                 float64\nMonth                       object\nOperatingSystems           float64\nBrowser                      int64\nRegion                       int64\nTrafficType                  int64\nVisitorType                 object\nWeekend                       bool\nRevenue                       bool\ndtype: object"
     },
     "metadata": {}
    }
   ]
  },
  {
   "cell_type": "code",
   "metadata": {
    "tags": [],
    "cell_id": "00007-221e77e6-a6ed-4033-82b4-ab3524b4ad6b",
    "deepnote_to_be_reexecuted": false,
    "source_hash": "3d4fe7e",
    "execution_start": 1630702150868,
    "execution_millis": 5,
    "deepnote_cell_type": "code"
   },
   "source": "# for now, Informational should change to an integer data type\n\ntable['Informational']=table['Informational'].astype('int64')\n\n\ntable.dtypes",
   "execution_count": 8,
   "outputs": [
    {
     "output_type": "execute_result",
     "execution_count": 8,
     "data": {
      "text/plain": "Administrative               int64\nAdministrative_Duration    float64\nInformational                int64\nInformational_Duration     float64\nProductRelated               int64\nProductRelated_Duration    float64\nBounceRates                float64\nExitRates                  float64\nPageValues                 float64\nSpecialDay                 float64\nMonth                       object\nOperatingSystems           float64\nBrowser                      int64\nRegion                       int64\nTrafficType                  int64\nVisitorType                 object\nWeekend                       bool\nRevenue                       bool\ndtype: object"
     },
     "metadata": {}
    }
   ]
  },
  {
   "cell_type": "code",
   "metadata": {
    "tags": [],
    "cell_id": "00007-9d5f386a-7c0b-46cc-a630-43fd4754a634",
    "deepnote_to_be_reexecuted": false,
    "source_hash": "e9aca1bd",
    "execution_start": 1630702150916,
    "execution_millis": 14,
    "deepnote_cell_type": "code"
   },
   "source": "# trying to see some boxplots of distributions to see if any outliers\n# first, create a new table of just the attributes\n\ntable_att = table.iloc[:,0:6]\n\ntable_att.head()",
   "execution_count": 9,
   "outputs": [
    {
     "output_type": "execute_result",
     "execution_count": 9,
     "data": {
      "application/vnd.deepnote.dataframe.v2+json": {
       "row_count": 5,
       "column_count": 6,
       "columns": [
        {
         "name": "Administrative",
         "dtype": "int64",
         "stats": {
          "unique_count": 1,
          "nan_count": 0,
          "min": "0",
          "max": "0",
          "histogram": [
           {
            "bin_start": -0.5,
            "bin_end": -0.4,
            "count": 0
           },
           {
            "bin_start": -0.4,
            "bin_end": -0.3,
            "count": 0
           },
           {
            "bin_start": -0.3,
            "bin_end": -0.19999999999999996,
            "count": 0
           },
           {
            "bin_start": -0.19999999999999996,
            "bin_end": -0.09999999999999998,
            "count": 0
           },
           {
            "bin_start": -0.09999999999999998,
            "bin_end": 0,
            "count": 0
           },
           {
            "bin_start": 0,
            "bin_end": 0.10000000000000009,
            "count": 5
           },
           {
            "bin_start": 0.10000000000000009,
            "bin_end": 0.20000000000000007,
            "count": 0
           },
           {
            "bin_start": 0.20000000000000007,
            "bin_end": 0.30000000000000004,
            "count": 0
           },
           {
            "bin_start": 0.30000000000000004,
            "bin_end": 0.4,
            "count": 0
           },
           {
            "bin_start": 0.4,
            "bin_end": 0.5,
            "count": 0
           }
          ]
         }
        },
        {
         "name": "Administrative_Duration",
         "dtype": "float64",
         "stats": {
          "unique_count": 1,
          "nan_count": 0,
          "min": "0.0",
          "max": "0.0",
          "histogram": [
           {
            "bin_start": -0.5,
            "bin_end": -0.4,
            "count": 0
           },
           {
            "bin_start": -0.4,
            "bin_end": -0.3,
            "count": 0
           },
           {
            "bin_start": -0.3,
            "bin_end": -0.19999999999999996,
            "count": 0
           },
           {
            "bin_start": -0.19999999999999996,
            "bin_end": -0.09999999999999998,
            "count": 0
           },
           {
            "bin_start": -0.09999999999999998,
            "bin_end": 0,
            "count": 0
           },
           {
            "bin_start": 0,
            "bin_end": 0.10000000000000009,
            "count": 5
           },
           {
            "bin_start": 0.10000000000000009,
            "bin_end": 0.20000000000000007,
            "count": 0
           },
           {
            "bin_start": 0.20000000000000007,
            "bin_end": 0.30000000000000004,
            "count": 0
           },
           {
            "bin_start": 0.30000000000000004,
            "bin_end": 0.4,
            "count": 0
           },
           {
            "bin_start": 0.4,
            "bin_end": 0.5,
            "count": 0
           }
          ]
         }
        },
        {
         "name": "Informational",
         "dtype": "int64",
         "stats": {
          "unique_count": 1,
          "nan_count": 0,
          "min": "0",
          "max": "0",
          "histogram": [
           {
            "bin_start": -0.5,
            "bin_end": -0.4,
            "count": 0
           },
           {
            "bin_start": -0.4,
            "bin_end": -0.3,
            "count": 0
           },
           {
            "bin_start": -0.3,
            "bin_end": -0.19999999999999996,
            "count": 0
           },
           {
            "bin_start": -0.19999999999999996,
            "bin_end": -0.09999999999999998,
            "count": 0
           },
           {
            "bin_start": -0.09999999999999998,
            "bin_end": 0,
            "count": 0
           },
           {
            "bin_start": 0,
            "bin_end": 0.10000000000000009,
            "count": 5
           },
           {
            "bin_start": 0.10000000000000009,
            "bin_end": 0.20000000000000007,
            "count": 0
           },
           {
            "bin_start": 0.20000000000000007,
            "bin_end": 0.30000000000000004,
            "count": 0
           },
           {
            "bin_start": 0.30000000000000004,
            "bin_end": 0.4,
            "count": 0
           },
           {
            "bin_start": 0.4,
            "bin_end": 0.5,
            "count": 0
           }
          ]
         }
        },
        {
         "name": "Informational_Duration",
         "dtype": "float64",
         "stats": {
          "unique_count": 1,
          "nan_count": 0,
          "min": "0.0",
          "max": "0.0",
          "histogram": [
           {
            "bin_start": -0.5,
            "bin_end": -0.4,
            "count": 0
           },
           {
            "bin_start": -0.4,
            "bin_end": -0.3,
            "count": 0
           },
           {
            "bin_start": -0.3,
            "bin_end": -0.19999999999999996,
            "count": 0
           },
           {
            "bin_start": -0.19999999999999996,
            "bin_end": -0.09999999999999998,
            "count": 0
           },
           {
            "bin_start": -0.09999999999999998,
            "bin_end": 0,
            "count": 0
           },
           {
            "bin_start": 0,
            "bin_end": 0.10000000000000009,
            "count": 5
           },
           {
            "bin_start": 0.10000000000000009,
            "bin_end": 0.20000000000000007,
            "count": 0
           },
           {
            "bin_start": 0.20000000000000007,
            "bin_end": 0.30000000000000004,
            "count": 0
           },
           {
            "bin_start": 0.30000000000000004,
            "bin_end": 0.4,
            "count": 0
           },
           {
            "bin_start": 0.4,
            "bin_end": 0.5,
            "count": 0
           }
          ]
         }
        },
        {
         "name": "ProductRelated",
         "dtype": "int64",
         "stats": {
          "unique_count": 3,
          "nan_count": 0,
          "min": "1",
          "max": "10",
          "histogram": [
           {
            "bin_start": 1,
            "bin_end": 1.9,
            "count": 2
           },
           {
            "bin_start": 1.9,
            "bin_end": 2.8,
            "count": 2
           },
           {
            "bin_start": 2.8,
            "bin_end": 3.7,
            "count": 0
           },
           {
            "bin_start": 3.7,
            "bin_end": 4.6,
            "count": 0
           },
           {
            "bin_start": 4.6,
            "bin_end": 5.5,
            "count": 0
           },
           {
            "bin_start": 5.5,
            "bin_end": 6.4,
            "count": 0
           },
           {
            "bin_start": 6.4,
            "bin_end": 7.3,
            "count": 0
           },
           {
            "bin_start": 7.3,
            "bin_end": 8.2,
            "count": 0
           },
           {
            "bin_start": 8.2,
            "bin_end": 9.1,
            "count": 0
           },
           {
            "bin_start": 9.1,
            "bin_end": 10,
            "count": 1
           }
          ]
         }
        },
        {
         "name": "ProductRelated_Duration",
         "dtype": "float64",
         "stats": {
          "unique_count": 4,
          "nan_count": 0,
          "min": "0.0",
          "max": "627.5",
          "histogram": [
           {
            "bin_start": 0,
            "bin_end": 62.75,
            "count": 3
           },
           {
            "bin_start": 62.75,
            "bin_end": 125.5,
            "count": 1
           },
           {
            "bin_start": 125.5,
            "bin_end": 188.25,
            "count": 0
           },
           {
            "bin_start": 188.25,
            "bin_end": 251,
            "count": 0
           },
           {
            "bin_start": 251,
            "bin_end": 313.75,
            "count": 0
           },
           {
            "bin_start": 313.75,
            "bin_end": 376.5,
            "count": 0
           },
           {
            "bin_start": 376.5,
            "bin_end": 439.25,
            "count": 0
           },
           {
            "bin_start": 439.25,
            "bin_end": 502,
            "count": 0
           },
           {
            "bin_start": 502,
            "bin_end": 564.75,
            "count": 0
           },
           {
            "bin_start": 564.75,
            "bin_end": 627.5,
            "count": 1
           }
          ]
         }
        },
        {
         "name": "_deepnote_index_column",
         "dtype": "int64"
        }
       ],
       "rows_top": [
        {
         "Administrative": 0,
         "Administrative_Duration": 0,
         "Informational": 0,
         "Informational_Duration": 0,
         "ProductRelated": 1,
         "ProductRelated_Duration": 0,
         "_deepnote_index_column": 0
        },
        {
         "Administrative": 0,
         "Administrative_Duration": 0,
         "Informational": 0,
         "Informational_Duration": 0,
         "ProductRelated": 2,
         "ProductRelated_Duration": 64,
         "_deepnote_index_column": 1
        },
        {
         "Administrative": 0,
         "Administrative_Duration": 0,
         "Informational": 0,
         "Informational_Duration": 0,
         "ProductRelated": 1,
         "ProductRelated_Duration": 0,
         "_deepnote_index_column": 2
        },
        {
         "Administrative": 0,
         "Administrative_Duration": 0,
         "Informational": 0,
         "Informational_Duration": 0,
         "ProductRelated": 2,
         "ProductRelated_Duration": 2.666666667,
         "_deepnote_index_column": 3
        },
        {
         "Administrative": 0,
         "Administrative_Duration": 0,
         "Informational": 0,
         "Informational_Duration": 0,
         "ProductRelated": 10,
         "ProductRelated_Duration": 627.5,
         "_deepnote_index_column": 4
        }
       ],
       "rows_bottom": null
      },
      "text/plain": "   Administrative  Administrative_Duration  Informational  \\\n0               0                      0.0              0   \n1               0                      0.0              0   \n2               0                      0.0              0   \n3               0                      0.0              0   \n4               0                      0.0              0   \n\n   Informational_Duration  ProductRelated  ProductRelated_Duration  \n0                     0.0               1                 0.000000  \n1                     0.0               2                64.000000  \n2                     0.0               1                 0.000000  \n3                     0.0               2                 2.666667  \n4                     0.0              10               627.500000  ",
      "text/html": "<div>\n<style scoped>\n    .dataframe tbody tr th:only-of-type {\n        vertical-align: middle;\n    }\n\n    .dataframe tbody tr th {\n        vertical-align: top;\n    }\n\n    .dataframe thead th {\n        text-align: right;\n    }\n</style>\n<table border=\"1\" class=\"dataframe\">\n  <thead>\n    <tr style=\"text-align: right;\">\n      <th></th>\n      <th>Administrative</th>\n      <th>Administrative_Duration</th>\n      <th>Informational</th>\n      <th>Informational_Duration</th>\n      <th>ProductRelated</th>\n      <th>ProductRelated_Duration</th>\n    </tr>\n  </thead>\n  <tbody>\n    <tr>\n      <th>0</th>\n      <td>0</td>\n      <td>0.0</td>\n      <td>0</td>\n      <td>0.0</td>\n      <td>1</td>\n      <td>0.000000</td>\n    </tr>\n    <tr>\n      <th>1</th>\n      <td>0</td>\n      <td>0.0</td>\n      <td>0</td>\n      <td>0.0</td>\n      <td>2</td>\n      <td>64.000000</td>\n    </tr>\n    <tr>\n      <th>2</th>\n      <td>0</td>\n      <td>0.0</td>\n      <td>0</td>\n      <td>0.0</td>\n      <td>1</td>\n      <td>0.000000</td>\n    </tr>\n    <tr>\n      <th>3</th>\n      <td>0</td>\n      <td>0.0</td>\n      <td>0</td>\n      <td>0.0</td>\n      <td>2</td>\n      <td>2.666667</td>\n    </tr>\n    <tr>\n      <th>4</th>\n      <td>0</td>\n      <td>0.0</td>\n      <td>0</td>\n      <td>0.0</td>\n      <td>10</td>\n      <td>627.500000</td>\n    </tr>\n  </tbody>\n</table>\n</div>"
     },
     "metadata": {}
    }
   ]
  },
  {
   "cell_type": "code",
   "metadata": {
    "tags": [],
    "cell_id": "00008-795c8c9a-1ac0-4fc0-afc9-0f1a1efcec05",
    "deepnote_to_be_reexecuted": false,
    "source_hash": "836a8592",
    "execution_start": 1630702150931,
    "execution_millis": 666,
    "deepnote_cell_type": "code"
   },
   "source": "# viewing boxplot of these attributes\n\nfig = plt.figure(figsize = (12,10))\ntable_att.boxplot()\nplt.show()",
   "execution_count": 10,
   "outputs": [
    {
     "data": {
      "text/plain": "<Figure size 864x720 with 1 Axes>",
      "image/png": "[encoded data removed]"
     },
     "metadata": {
      "needs_background": "light",
      "image/png": {
       "width": 728,
       "height": 575
      }
     },
     "output_type": "display_data"
    }
   ]
  },
  {
   "cell_type": "code",
   "metadata": {
    "cell_id": "00006-3f2e1e10-7599-4ae5-9888-c8719e2e52ff",
    "deepnote_to_be_reexecuted": false,
    "source_hash": "ed3364e3",
    "execution_start": 1630702151607,
    "execution_millis": 397,
    "deepnote_cell_type": "code"
   },
   "source": "# it's obvious there is a heavy positive skew for most of these variables. \n# Let's get a closer look at page visits for each to confirm for those as they're small on previous plot\n\ntable_att_pv = table_att[['Administrative','Informational','ProductRelated']]\nfig = plt.figure(figsize = (10,10))\ntable_att_pv.boxplot()\nplt.show()\n",
   "execution_count": 11,
   "outputs": [
    {
     "data": {
      "text/plain": "<Figure size 720x720 with 1 Axes>",
      "image/png": "[encoded data removed]"
     },
     "metadata": {
      "needs_background": "light",
      "image/png": {
       "width": 598,
       "height": 575
      }
     },
     "output_type": "display_data"
    }
   ]
  },
  {
   "cell_type": "code",
   "metadata": {
    "cell_id": "00007-b072faeb-225a-4d0e-b99a-ea7b537447dd",
    "deepnote_to_be_reexecuted": false,
    "source_hash": "c800384d",
    "execution_start": 1630702152099,
    "execution_millis": 294,
    "deepnote_cell_type": "code"
   },
   "source": "# Doing the same for metrics - Bounce rate, exit rate and page value\n\ntable_met = table.iloc[:,6:9]\nfig = plt.figure(figsize = (10,10))\ntable_met.boxplot()\nplt.show()\n",
   "execution_count": 12,
   "outputs": [
    {
     "data": {
      "text/plain": "<Figure size 720x720 with 1 Axes>",
      "image/png": "[encoded data removed]"
     },
     "metadata": {
      "needs_background": "light",
      "image/png": {
       "width": 598,
       "height": 575
      }
     },
     "output_type": "display_data"
    }
   ]
  },
  {
   "cell_type": "code",
   "metadata": {
    "tags": [],
    "cell_id": "00012-503096f6-aa50-476b-bd57-984abb2137ed",
    "deepnote_to_be_reexecuted": false,
    "source_hash": "85e6b528",
    "execution_start": 1630702152426,
    "execution_millis": 217,
    "deepnote_cell_type": "code"
   },
   "source": "#closer look at just bounce and exit rates\n\ntable_met = table_met.iloc[:,:2]\ntable_met.boxplot()\nplt.show()",
   "execution_count": 13,
   "outputs": [
    {
     "data": {
      "text/plain": "<Figure size 432x288 with 1 Axes>",
      "image/png": "[encoded data removed]"
     },
     "metadata": {
      "needs_background": "light",
      "image/png": {
       "width": 384,
       "height": 248
      }
     },
     "output_type": "display_data"
    }
   ]
  },
  {
   "cell_type": "code",
   "metadata": {
    "tags": [],
    "cell_id": "00014-5f9c3fa0-2185-46cb-98c9-76a3a43e5a5a",
    "deepnote_to_be_reexecuted": false,
    "source_hash": "9d0049f1",
    "allow_embed": false,
    "execution_start": 1630702152703,
    "execution_millis": 21,
    "deepnote_cell_type": "code"
   },
   "source": "# check correlation for all numeric variables\n\ncorr_num = table.iloc[:,:6].corr() # correlation of numerical variables\ncorr_num",
   "execution_count": 14,
   "outputs": [
    {
     "output_type": "execute_result",
     "execution_count": 14,
     "data": {
      "application/vnd.deepnote.dataframe.v2+json": {
       "row_count": 6,
       "column_count": 6,
       "columns": [
        {
         "name": "Administrative",
         "dtype": "float64",
         "stats": {
          "unique_count": 6,
          "nan_count": 0,
          "min": "0.25584814023262603",
          "max": "1.0",
          "histogram": [
           {
            "bin_start": 0.25584814023262603,
            "bin_end": 0.33026332620936344,
            "count": 1
           },
           {
            "bin_start": 0.33026332620936344,
            "bin_end": 0.40467851218610085,
            "count": 2
           },
           {
            "bin_start": 0.40467851218610085,
            "bin_end": 0.4790936981628382,
            "count": 1
           },
           {
            "bin_start": 0.4790936981628382,
            "bin_end": 0.5535088841395757,
            "count": 0
           },
           {
            "bin_start": 0.5535088841395757,
            "bin_end": 0.627924070116313,
            "count": 1
           },
           {
            "bin_start": 0.627924070116313,
            "bin_end": 0.7023392560930504,
            "count": 0
           },
           {
            "bin_start": 0.7023392560930504,
            "bin_end": 0.7767544420697878,
            "count": 0
           },
           {
            "bin_start": 0.7767544420697878,
            "bin_end": 0.8511696280465252,
            "count": 0
           },
           {
            "bin_start": 0.8511696280465252,
            "bin_end": 0.9255848140232625,
            "count": 0
           },
           {
            "bin_start": 0.9255848140232625,
            "bin_end": 1,
            "count": 1
           }
          ]
         }
        },
        {
         "name": "Administrative_Duration",
         "dtype": "float64",
         "stats": {
          "unique_count": 6,
          "nan_count": 0,
          "min": "0.23803078935000094",
          "max": "1.0",
          "histogram": [
           {
            "bin_start": 0.23803078935000094,
            "bin_end": 0.31422771041500086,
            "count": 3
           },
           {
            "bin_start": 0.31422771041500086,
            "bin_end": 0.39042463148000073,
            "count": 1
           },
           {
            "bin_start": 0.39042463148000073,
            "bin_end": 0.46662155254500065,
            "count": 0
           },
           {
            "bin_start": 0.46662155254500065,
            "bin_end": 0.5428184736100006,
            "count": 0
           },
           {
            "bin_start": 0.5428184736100006,
            "bin_end": 0.6190153946750006,
            "count": 1
           },
           {
            "bin_start": 0.6190153946750006,
            "bin_end": 0.6952123157400003,
            "count": 0
           },
           {
            "bin_start": 0.6952123157400003,
            "bin_end": 0.7714092368050003,
            "count": 0
           },
           {
            "bin_start": 0.7714092368050003,
            "bin_end": 0.8476061578700003,
            "count": 0
           },
           {
            "bin_start": 0.8476061578700003,
            "bin_end": 0.923803078935,
            "count": 0
           },
           {
            "bin_start": 0.923803078935,
            "bin_end": 1,
            "count": 1
           }
          ]
         }
        },
        {
         "name": "Informational",
         "dtype": "float64",
         "stats": {
          "unique_count": 6,
          "nan_count": 0,
          "min": "0.30047222590678574",
          "max": "1.0",
          "histogram": [
           {
            "bin_start": 0.30047222590678574,
            "bin_end": 0.37042500331610717,
            "count": 1
           },
           {
            "bin_start": 0.37042500331610717,
            "bin_end": 0.44037778072542855,
            "count": 3
           },
           {
            "bin_start": 0.44037778072542855,
            "bin_end": 0.5103305581347499,
            "count": 0
           },
           {
            "bin_start": 0.5103305581347499,
            "bin_end": 0.5802833355440714,
            "count": 0
           },
           {
            "bin_start": 0.5802833355440714,
            "bin_end": 0.6502361129533929,
            "count": 1
           },
           {
            "bin_start": 0.6502361129533929,
            "bin_end": 0.7201888903627143,
            "count": 0
           },
           {
            "bin_start": 0.7201888903627143,
            "bin_end": 0.7901416677720356,
            "count": 0
           },
           {
            "bin_start": 0.7901416677720356,
            "bin_end": 0.860094445181357,
            "count": 0
           },
           {
            "bin_start": 0.860094445181357,
            "bin_end": 0.9300472225906784,
            "count": 0
           },
           {
            "bin_start": 0.9300472225906784,
            "bin_end": 1,
            "count": 1
           }
          ]
         }
        },
        {
         "name": "Informational_Duration",
         "dtype": "float64",
         "stats": {
          "unique_count": 6,
          "nan_count": 0,
          "min": "0.23803078935000094",
          "max": "1.0",
          "histogram": [
           {
            "bin_start": 0.23803078935000094,
            "bin_end": 0.31422771041500086,
            "count": 3
           },
           {
            "bin_start": 0.31422771041500086,
            "bin_end": 0.39042463148000073,
            "count": 1
           },
           {
            "bin_start": 0.39042463148000073,
            "bin_end": 0.46662155254500065,
            "count": 0
           },
           {
            "bin_start": 0.46662155254500065,
            "bin_end": 0.5428184736100006,
            "count": 0
           },
           {
            "bin_start": 0.5428184736100006,
            "bin_end": 0.6190153946750006,
            "count": 1
           },
           {
            "bin_start": 0.6190153946750006,
            "bin_end": 0.6952123157400003,
            "count": 0
           },
           {
            "bin_start": 0.6952123157400003,
            "bin_end": 0.7714092368050003,
            "count": 0
           },
           {
            "bin_start": 0.7714092368050003,
            "bin_end": 0.8476061578700003,
            "count": 0
           },
           {
            "bin_start": 0.8476061578700003,
            "bin_end": 0.923803078935,
            "count": 0
           },
           {
            "bin_start": 0.923803078935,
            "bin_end": 1,
            "count": 1
           }
          ]
         }
        },
        {
         "name": "ProductRelated",
         "dtype": "float64",
         "stats": {
          "unique_count": 6,
          "nan_count": 0,
          "min": "0.2800462678591969",
          "max": "1.0",
          "histogram": [
           {
            "bin_start": 0.2800462678591969,
            "bin_end": 0.3520416410732772,
            "count": 2
           },
           {
            "bin_start": 0.3520416410732772,
            "bin_end": 0.4240370142873575,
            "count": 1
           },
           {
            "bin_start": 0.4240370142873575,
            "bin_end": 0.49603238750143785,
            "count": 1
           },
           {
            "bin_start": 0.49603238750143785,
            "bin_end": 0.5680277607155182,
            "count": 0
           },
           {
            "bin_start": 0.5680277607155182,
            "bin_end": 0.6400231339295985,
            "count": 0
           },
           {
            "bin_start": 0.6400231339295985,
            "bin_end": 0.7120185071436788,
            "count": 0
           },
           {
            "bin_start": 0.7120185071436788,
            "bin_end": 0.784013880357759,
            "count": 0
           },
           {
            "bin_start": 0.784013880357759,
            "bin_end": 0.8560092535718393,
            "count": 0
           },
           {
            "bin_start": 0.8560092535718393,
            "bin_end": 0.9280046267859197,
            "count": 1
           },
           {
            "bin_start": 0.9280046267859197,
            "bin_end": 1,
            "count": 1
           }
          ]
         }
        },
        {
         "name": "ProductRelated_Duration",
         "dtype": "float64",
         "stats": {
          "unique_count": 6,
          "nan_count": 0,
          "min": "0.3473635774464961",
          "max": "1.0",
          "histogram": [
           {
            "bin_start": 0.3473635774464961,
            "bin_end": 0.41262721970184646,
            "count": 4
           },
           {
            "bin_start": 0.41262721970184646,
            "bin_end": 0.4778908619571969,
            "count": 0
           },
           {
            "bin_start": 0.4778908619571969,
            "bin_end": 0.5431545042125473,
            "count": 0
           },
           {
            "bin_start": 0.5431545042125473,
            "bin_end": 0.6084181464678977,
            "count": 0
           },
           {
            "bin_start": 0.6084181464678977,
            "bin_end": 0.673681788723248,
            "count": 0
           },
           {
            "bin_start": 0.673681788723248,
            "bin_end": 0.7389454309785984,
            "count": 0
           },
           {
            "bin_start": 0.7389454309785984,
            "bin_end": 0.8042090732339489,
            "count": 0
           },
           {
            "bin_start": 0.8042090732339489,
            "bin_end": 0.8694727154892992,
            "count": 1
           },
           {
            "bin_start": 0.8694727154892992,
            "bin_end": 0.9347363577446497,
            "count": 0
           },
           {
            "bin_start": 0.9347363577446497,
            "bin_end": 1,
            "count": 1
           }
          ]
         }
        },
        {
         "name": "_deepnote_index_column",
         "dtype": "object"
        }
       ],
       "rows_top": [
        {
         "Administrative": 1,
         "Administrative_Duration": 0.6015833421250227,
         "Informational": 0.37147641295630407,
         "Informational_Duration": 0.25584814023262603,
         "ProductRelated": 0.43111933962453475,
         "ProductRelated_Duration": 0.3739390129596706,
         "_deepnote_index_column": "Administrative"
        },
        {
         "Administrative": 0.6015833421250227,
         "Administrative_Duration": 1,
         "Informational": 0.30047222590678574,
         "Informational_Duration": 0.23803078935000094,
         "ProductRelated": 0.2890866214062173,
         "ProductRelated_Duration": 0.35542195350163014,
         "_deepnote_index_column": "Administrative_Duration"
        },
        {
         "Administrative": 0.37147641295630407,
         "Administrative_Duration": 0.30047222590678574,
         "Informational": 1,
         "Informational_Duration": 0.6172709353931898,
         "ProductRelated": 0.37065631593717663,
         "ProductRelated_Duration": 0.3842711794504124,
         "_deepnote_index_column": "Informational"
        },
        {
         "Administrative": 0.25584814023262603,
         "Administrative_Duration": 0.23803078935000094,
         "Informational": 0.6172709353931898,
         "Informational_Duration": 1,
         "ProductRelated": 0.2800462678591969,
         "ProductRelated_Duration": 0.3473635774464961,
         "_deepnote_index_column": "Informational_Duration"
        },
        {
         "Administrative": 0.43111933962453475,
         "Administrative_Duration": 0.2890866214062173,
         "Informational": 0.37065631593717663,
         "Informational_Duration": 0.2800462678591969,
         "ProductRelated": 1,
         "ProductRelated_Duration": 0.8609268361763706,
         "_deepnote_index_column": "ProductRelated"
        },
        {
         "Administrative": 0.3739390129596706,
         "Administrative_Duration": 0.35542195350163014,
         "Informational": 0.3842711794504124,
         "Informational_Duration": 0.3473635774464961,
         "ProductRelated": 0.8609268361763706,
         "ProductRelated_Duration": 1,
         "_deepnote_index_column": "ProductRelated_Duration"
        }
       ],
       "rows_bottom": null
      },
      "text/plain": "                         Administrative  Administrative_Duration  \\\nAdministrative                 1.000000                 0.601583   \nAdministrative_Duration        0.601583                 1.000000   \nInformational                  0.371476                 0.300472   \nInformational_Duration         0.255848                 0.238031   \nProductRelated                 0.431119                 0.289087   \nProductRelated_Duration        0.373939                 0.355422   \n\n                         Informational  Informational_Duration  \\\nAdministrative                0.371476                0.255848   \nAdministrative_Duration       0.300472                0.238031   \nInformational                 1.000000                0.617271   \nInformational_Duration        0.617271                1.000000   \nProductRelated                0.370656                0.280046   \nProductRelated_Duration       0.384271                0.347364   \n\n                         ProductRelated  ProductRelated_Duration  \nAdministrative                 0.431119                 0.373939  \nAdministrative_Duration        0.289087                 0.355422  \nInformational                  0.370656                 0.384271  \nInformational_Duration         0.280046                 0.347364  \nProductRelated                 1.000000                 0.860927  \nProductRelated_Duration        0.860927                 1.000000  ",
      "text/html": "<div>\n<style scoped>\n    .dataframe tbody tr th:only-of-type {\n        vertical-align: middle;\n    }\n\n    .dataframe tbody tr th {\n        vertical-align: top;\n    }\n\n    .dataframe thead th {\n        text-align: right;\n    }\n</style>\n<table border=\"1\" class=\"dataframe\">\n  <thead>\n    <tr style=\"text-align: right;\">\n      <th></th>\n      <th>Administrative</th>\n      <th>Administrative_Duration</th>\n      <th>Informational</th>\n      <th>Informational_Duration</th>\n      <th>ProductRelated</th>\n      <th>ProductRelated_Duration</th>\n    </tr>\n  </thead>\n  <tbody>\n    <tr>\n      <th>Administrative</th>\n      <td>1.000000</td>\n      <td>0.601583</td>\n      <td>0.371476</td>\n      <td>0.255848</td>\n      <td>0.431119</td>\n      <td>0.373939</td>\n    </tr>\n    <tr>\n      <th>Administrative_Duration</th>\n      <td>0.601583</td>\n      <td>1.000000</td>\n      <td>0.300472</td>\n      <td>0.238031</td>\n      <td>0.289087</td>\n      <td>0.355422</td>\n    </tr>\n    <tr>\n      <th>Informational</th>\n      <td>0.371476</td>\n      <td>0.300472</td>\n      <td>1.000000</td>\n      <td>0.617271</td>\n      <td>0.370656</td>\n      <td>0.384271</td>\n    </tr>\n    <tr>\n      <th>Informational_Duration</th>\n      <td>0.255848</td>\n      <td>0.238031</td>\n      <td>0.617271</td>\n      <td>1.000000</td>\n      <td>0.280046</td>\n      <td>0.347364</td>\n    </tr>\n    <tr>\n      <th>ProductRelated</th>\n      <td>0.431119</td>\n      <td>0.289087</td>\n      <td>0.370656</td>\n      <td>0.280046</td>\n      <td>1.000000</td>\n      <td>0.860927</td>\n    </tr>\n    <tr>\n      <th>ProductRelated_Duration</th>\n      <td>0.373939</td>\n      <td>0.355422</td>\n      <td>0.384271</td>\n      <td>0.347364</td>\n      <td>0.860927</td>\n      <td>1.000000</td>\n    </tr>\n  </tbody>\n</table>\n</div>"
     },
     "metadata": {}
    }
   ]
  },
  {
   "cell_type": "code",
   "source": "",
   "metadata": {
    "cell_id": "00016-8546c3f7-74ef-4f5d-85b9-51f072692f2e",
    "deepnote_to_be_reexecuted": false,
    "source_hash": "b623e53d",
    "execution_start": 1630702152713,
    "execution_millis": 2,
    "deepnote_cell_type": "visualization"
   },
   "execution_count": 14,
   "outputs": []
  },
  {
   "cell_type": "code",
   "metadata": {
    "cell_id": "00008-a5ba5d5b-0b7e-4606-8ff1-ef29c8c2a979",
    "deepnote_to_be_reexecuted": false,
    "source_hash": "99ea646e",
    "execution_start": 1630702152720,
    "execution_millis": 364,
    "deepnote_cell_type": "code"
   },
   "source": "fig=plt.figure(figsize=(10,6))\n\nsns.countplot(table['VisitorType'],data=table)\nplt.show()",
   "execution_count": 15,
   "outputs": [
    {
     "name": "stderr",
     "text": "/shared-libs/python3.7/py/lib/python3.7/site-packages/seaborn/_decorators.py:43: FutureWarning: Pass the following variable as a keyword arg: x. From version 0.12, the only valid positional argument will be `data`, and passing other arguments without an explicit keyword will result in an error or misinterpretation.\n  FutureWarning\n",
     "output_type": "stream"
    },
    {
     "data": {
      "text/plain": "<Figure size 720x432 with 1 Axes>",
      "image/png": "[encoded data removed]"
     },
     "metadata": {
      "needs_background": "light",
      "image/png": {
       "width": 624,
       "height": 372
      }
     },
     "output_type": "display_data"
    }
   ]
  },
  {
   "cell_type": "code",
   "metadata": {
    "tags": [],
    "cell_id": "00018-51099c02-1b0c-4531-a68a-1cd89c5abb11",
    "deepnote_to_be_reexecuted": false,
    "source_hash": "76f9417a",
    "execution_start": 1630702153103,
    "execution_millis": 425,
    "deepnote_cell_type": "code"
   },
   "source": "# getting rid of \"other\" visitor type\n\ntable = table.loc[table['VisitorType']!=\"Other\"]\n\ntable['VisitorType']=table['VisitorType'].astype('category')\nfig=plt.figure(figsize=(10,6))\n\nsns.countplot(table['VisitorType'],data=table)\nplt.show()\n\nprint(table.shape)",
   "execution_count": 16,
   "outputs": [
    {
     "name": "stderr",
     "text": "/shared-libs/python3.7/py/lib/python3.7/site-packages/seaborn/_decorators.py:43: FutureWarning: Pass the following variable as a keyword arg: x. From version 0.12, the only valid positional argument will be `data`, and passing other arguments without an explicit keyword will result in an error or misinterpretation.\n  FutureWarning\n",
     "output_type": "stream"
    },
    {
     "data": {
      "text/plain": "<Figure size 720x432 with 1 Axes>",
      "image/png": "[encoded data removed]"
     },
     "metadata": {
      "needs_background": "light",
      "image/png": {
       "width": 624,
       "height": 372
      }
     },
     "output_type": "display_data"
    },
    {
     "name": "stdout",
     "text": "(12245, 18)\n",
     "output_type": "stream"
    }
   ]
  },
  {
   "cell_type": "code",
   "metadata": {
    "tags": [],
    "cell_id": "00017-a6d64f60-804d-46b5-a576-8b86c08060ba",
    "deepnote_to_be_reexecuted": false,
    "source_hash": "8ccf4056",
    "execution_start": 1630702153537,
    "execution_millis": 432,
    "deepnote_cell_type": "code"
   },
   "source": "fig=plt.figure(figsize=(10,6))\nsns.countplot(table['Month'],data=table)\nplt.show()",
   "execution_count": 17,
   "outputs": [
    {
     "data": {
      "text/plain": "<Figure size 720x432 with 1 Axes>",
      "image/png": "[encoded data removed]"
     },
     "metadata": {
      "needs_background": "light",
      "image/png": {
       "width": 618,
       "height": 372
      }
     },
     "output_type": "display_data"
    }
   ]
  },
  {
   "cell_type": "code",
   "metadata": {
    "tags": [],
    "cell_id": "00020-4ad62c10-e47a-4615-a0c8-cb17c4ddf060",
    "deepnote_to_be_reexecuted": false,
    "source_hash": "b623e53d",
    "execution_start": 1630702154007,
    "execution_millis": 1,
    "deepnote_cell_type": "code"
   },
   "source": "",
   "execution_count": 17,
   "outputs": []
  },
  {
   "cell_type": "markdown",
   "source": "There are only positive correlations, but, other than duration for a page to its own page visits, moderate correlations at best exist. Because of low correlations,it could be good to model based off these variables as there will be low inflation and multicollinearity concerns.",
   "metadata": {
    "tags": [],
    "cell_id": "00021-9be255ff-2329-4fbc-b61f-694fc1da09aa",
    "deepnote_cell_type": "markdown"
   }
  },
  {
   "cell_type": "code",
   "metadata": {
    "tags": [],
    "cell_id": "00018-f2d82b4d-7475-48d6-91ac-448d19c1ce46",
    "deepnote_to_be_reexecuted": false,
    "source_hash": "3703fc63",
    "execution_start": 1630702154008,
    "execution_millis": 219,
    "deepnote_cell_type": "code"
   },
   "source": "fig=plt.figure(figsize=(10,6))\n\nsns.countplot(table['Region'],data=table)\nplt.show()",
   "execution_count": 18,
   "outputs": [
    {
     "name": "stderr",
     "text": "/shared-libs/python3.7/py/lib/python3.7/site-packages/seaborn/_decorators.py:43: FutureWarning: Pass the following variable as a keyword arg: x. From version 0.12, the only valid positional argument will be `data`, and passing other arguments without an explicit keyword will result in an error or misinterpretation.\n  FutureWarning\n",
     "output_type": "stream"
    },
    {
     "data": {
      "text/plain": "<Figure size 720x432 with 1 Axes>",
      "image/png": "[encoded data removed]"
     },
     "metadata": {
      "needs_background": "light",
      "image/png": {
       "width": 618,
       "height": 374
      }
     },
     "output_type": "display_data"
    }
   ]
  },
  {
   "cell_type": "code",
   "metadata": {
    "tags": [],
    "cell_id": "00023-6837c1b2-c0bf-4c7e-b2e9-c766483048d9",
    "deepnote_to_be_reexecuted": false,
    "source_hash": "67adf3fa",
    "execution_start": 1630702154239,
    "execution_millis": 1038,
    "deepnote_cell_type": "code"
   },
   "source": "fig=plt.figure(figsize=(10,6))\n\nsns.countplot(table['TrafficType'],data=table)\nplt.show()",
   "execution_count": 19,
   "outputs": [
    {
     "name": "stderr",
     "text": "/shared-libs/python3.7/py/lib/python3.7/site-packages/seaborn/_decorators.py:43: FutureWarning: Pass the following variable as a keyword arg: x. From version 0.12, the only valid positional argument will be `data`, and passing other arguments without an explicit keyword will result in an error or misinterpretation.\n  FutureWarning\n",
     "output_type": "stream"
    },
    {
     "data": {
      "text/plain": "<Figure size 720x432 with 1 Axes>",
      "image/png": "[encoded data removed]"
     },
     "metadata": {
      "needs_background": "light",
      "image/png": {
       "width": 618,
       "height": 371
      }
     },
     "output_type": "display_data"
    }
   ]
  },
  {
   "cell_type": "code",
   "metadata": {
    "tags": [],
    "cell_id": "00019-1acf5442-bb69-4939-bff0-eeacdaffab12",
    "deepnote_to_be_reexecuted": false,
    "source_hash": "a3360802",
    "execution_start": 1630702155273,
    "execution_millis": 87,
    "deepnote_cell_type": "code"
   },
   "source": "fig=plt.figure(figsize=(10,6))\n\nsns.countplot(table['Browser'],data=table)\nplt.show()",
   "execution_count": 20,
   "outputs": [
    {
     "name": "stderr",
     "text": "/shared-libs/python3.7/py/lib/python3.7/site-packages/seaborn/_decorators.py:43: FutureWarning: Pass the following variable as a keyword arg: x. From version 0.12, the only valid positional argument will be `data`, and passing other arguments without an explicit keyword will result in an error or misinterpretation.\n  FutureWarning\n",
     "output_type": "stream"
    },
    {
     "data": {
      "text/plain": "<Figure size 720x432 with 1 Axes>",
      "image/png": "[encoded data removed]"
     },
     "metadata": {
      "needs_background": "light",
      "image/png": {
       "width": 618,
       "height": 371
      }
     },
     "output_type": "display_data"
    }
   ]
  },
  {
   "cell_type": "code",
   "metadata": {
    "tags": [],
    "cell_id": "00025-a505b72a-dece-41e6-976c-bc44fabd914c",
    "deepnote_to_be_reexecuted": false,
    "source_hash": "43bcf00",
    "execution_start": 1630702155273,
    "execution_millis": 1,
    "deepnote_cell_type": "code"
   },
   "source": "\n\n# Noisy data in Browser (Browsers of 7 and greater) and TrafficType (Type 14 and greater)\n\ntable = table.loc[(table['Browser']<=6)&(table['TrafficType']<=13)]\ntable = table.loc[table['VisitorType']!=\"Other\"]\n\n\n# now finally change their data types to categorical\n\ntable[['Browser','Region','TrafficType']]=table[['Browser','Region','TrafficType']].astype('category')",
   "execution_count": 21,
   "outputs": []
  },
  {
   "cell_type": "code",
   "metadata": {
    "tags": [],
    "cell_id": "00026-f1526fed-4335-4472-b4e5-a50231f04c51",
    "deepnote_to_be_reexecuted": false,
    "source_hash": "ea8efdb3",
    "execution_start": 1630702155274,
    "execution_millis": 86,
    "deepnote_cell_type": "code"
   },
   "source": "table.dtypes",
   "execution_count": 22,
   "outputs": [
    {
     "output_type": "execute_result",
     "execution_count": 22,
     "data": {
      "text/plain": "Administrative                int64\nAdministrative_Duration     float64\nInformational                 int64\nInformational_Duration      float64\nProductRelated                int64\nProductRelated_Duration     float64\nBounceRates                 float64\nExitRates                   float64\nPageValues                  float64\nSpecialDay                  float64\nMonth                        object\nOperatingSystems            float64\nBrowser                    category\nRegion                     category\nTrafficType                category\nVisitorType                category\nWeekend                        bool\nRevenue                        bool\ndtype: object"
     },
     "metadata": {}
    }
   ]
  },
  {
   "cell_type": "code",
   "metadata": {
    "tags": [],
    "cell_id": "00027-79e199d3-a691-4532-b472-78d24c563efb",
    "deepnote_to_be_reexecuted": false,
    "source_hash": "b0db4e43",
    "execution_start": 1630702155275,
    "execution_millis": 85,
    "deepnote_cell_type": "code"
   },
   "source": "# creating a column to create a boolean for visitor type\n\ntable[\"Returning Visitor?\"]=np.where(table['VisitorType'].str.contains(\"Returning_Visitor\"),1,0)\n\ntable[\"Returning Visitor?\"] = table[\"Returning Visitor?\"].astype(bool)\n\ntable[\"Returning Visitor?\"].unique()",
   "execution_count": 23,
   "outputs": [
    {
     "output_type": "execute_result",
     "execution_count": 23,
     "data": {
      "text/plain": "array([ True, False])"
     },
     "metadata": {}
    }
   ]
  },
  {
   "cell_type": "code",
   "metadata": {
    "tags": [],
    "cell_id": "00026-9ed723f9-b9e6-49c8-a357-237f2af5e85f",
    "deepnote_to_be_reexecuted": false,
    "source_hash": "a988ac99",
    "execution_start": 1630702155275,
    "execution_millis": 0,
    "deepnote_cell_type": "code"
   },
   "source": "# transform revenue, weekend and returning visitor to 1s and 0s\n\ntable[\"Weekend\"] = (table[\"Weekend\"]==True).astype(int)\n\ntable[\"Returning Visitor?\"] = (table[\"Returning Visitor?\"]==True).astype(int)\n\ntable[\"Revenue\"] = (table[\"Revenue\"]==True).astype(int)",
   "execution_count": 24,
   "outputs": []
  },
  {
   "cell_type": "code",
   "metadata": {
    "tags": [],
    "cell_id": "00028-943cbaab-17ba-456a-b05a-424a46b3471f",
    "deepnote_to_be_reexecuted": false,
    "source_hash": "d5508c88",
    "execution_start": 1630702155276,
    "execution_millis": 84,
    "deepnote_cell_type": "code"
   },
   "source": "# creating new table for variables wanted to be used for random forest\n\ntable_rf = table[['Region','TrafficType','Returning Visitor?','Weekend','Revenue']]\n\ntable_rf.head()",
   "execution_count": 25,
   "outputs": [
    {
     "output_type": "execute_result",
     "execution_count": 25,
     "data": {
      "application/vnd.deepnote.dataframe.v2+json": {
       "row_count": 5,
       "column_count": 5,
       "columns": [
        {
         "name": "Region",
         "dtype": "category",
         "stats": {
          "unique_count": 3,
          "nan_count": 0,
          "categories": [
           {
            "name": "1",
            "count": 3
           },
           {
            "name": "9",
            "count": 1
           },
           {
            "name": "2",
            "count": 1
           }
          ]
         }
        },
        {
         "name": "TrafficType",
         "dtype": "category",
         "stats": {
          "unique_count": 4,
          "nan_count": 0,
          "categories": [
           {
            "name": "4",
            "count": 2
           },
           {
            "name": "1",
            "count": 1
           },
           {
            "name": "2 others",
            "count": 2
           }
          ]
         }
        },
        {
         "name": "Returning Visitor?",
         "dtype": "int64",
         "stats": {
          "unique_count": 1,
          "nan_count": 0,
          "min": "1",
          "max": "1",
          "histogram": [
           {
            "bin_start": 0.5,
            "bin_end": 0.6,
            "count": 0
           },
           {
            "bin_start": 0.6,
            "bin_end": 0.7,
            "count": 0
           },
           {
            "bin_start": 0.7,
            "bin_end": 0.8,
            "count": 0
           },
           {
            "bin_start": 0.8,
            "bin_end": 0.9,
            "count": 0
           },
           {
            "bin_start": 0.9,
            "bin_end": 1,
            "count": 0
           },
           {
            "bin_start": 1,
            "bin_end": 1.1,
            "count": 5
           },
           {
            "bin_start": 1.1,
            "bin_end": 1.2000000000000002,
            "count": 0
           },
           {
            "bin_start": 1.2000000000000002,
            "bin_end": 1.3,
            "count": 0
           },
           {
            "bin_start": 1.3,
            "bin_end": 1.4,
            "count": 0
           },
           {
            "bin_start": 1.4,
            "bin_end": 1.5,
            "count": 0
           }
          ]
         }
        },
        {
         "name": "Weekend",
         "dtype": "int64",
         "stats": {
          "unique_count": 2,
          "nan_count": 0,
          "min": "0",
          "max": "1",
          "histogram": [
           {
            "bin_start": 0,
            "bin_end": 0.1,
            "count": 4
           },
           {
            "bin_start": 0.1,
            "bin_end": 0.2,
            "count": 0
           },
           {
            "bin_start": 0.2,
            "bin_end": 0.30000000000000004,
            "count": 0
           },
           {
            "bin_start": 0.30000000000000004,
            "bin_end": 0.4,
            "count": 0
           },
           {
            "bin_start": 0.4,
            "bin_end": 0.5,
            "count": 0
           },
           {
            "bin_start": 0.5,
            "bin_end": 0.6000000000000001,
            "count": 0
           },
           {
            "bin_start": 0.6000000000000001,
            "bin_end": 0.7000000000000001,
            "count": 0
           },
           {
            "bin_start": 0.7000000000000001,
            "bin_end": 0.8,
            "count": 0
           },
           {
            "bin_start": 0.8,
            "bin_end": 0.9,
            "count": 0
           },
           {
            "bin_start": 0.9,
            "bin_end": 1,
            "count": 1
           }
          ]
         }
        },
        {
         "name": "Revenue",
         "dtype": "int64",
         "stats": {
          "unique_count": 1,
          "nan_count": 0,
          "min": "0",
          "max": "0",
          "histogram": [
           {
            "bin_start": -0.5,
            "bin_end": -0.4,
            "count": 0
           },
           {
            "bin_start": -0.4,
            "bin_end": -0.3,
            "count": 0
           },
           {
            "bin_start": -0.3,
            "bin_end": -0.19999999999999996,
            "count": 0
           },
           {
            "bin_start": -0.19999999999999996,
            "bin_end": -0.09999999999999998,
            "count": 0
           },
           {
            "bin_start": -0.09999999999999998,
            "bin_end": 0,
            "count": 0
           },
           {
            "bin_start": 0,
            "bin_end": 0.10000000000000009,
            "count": 5
           },
           {
            "bin_start": 0.10000000000000009,
            "bin_end": 0.20000000000000007,
            "count": 0
           },
           {
            "bin_start": 0.20000000000000007,
            "bin_end": 0.30000000000000004,
            "count": 0
           },
           {
            "bin_start": 0.30000000000000004,
            "bin_end": 0.4,
            "count": 0
           },
           {
            "bin_start": 0.4,
            "bin_end": 0.5,
            "count": 0
           }
          ]
         }
        },
        {
         "name": "_deepnote_index_column",
         "dtype": "int64"
        }
       ],
       "rows_top": [
        {
         "Region": 1,
         "TrafficType": 1,
         "Returning Visitor?": 1,
         "Weekend": 0,
         "Revenue": 0,
         "_deepnote_index_column": 0
        },
        {
         "Region": 1,
         "TrafficType": 2,
         "Returning Visitor?": 1,
         "Weekend": 0,
         "Revenue": 0,
         "_deepnote_index_column": 1
        },
        {
         "Region": 9,
         "TrafficType": 3,
         "Returning Visitor?": 1,
         "Weekend": 0,
         "Revenue": 0,
         "_deepnote_index_column": 2
        },
        {
         "Region": 2,
         "TrafficType": 4,
         "Returning Visitor?": 1,
         "Weekend": 0,
         "Revenue": 0,
         "_deepnote_index_column": 3
        },
        {
         "Region": 1,
         "TrafficType": 4,
         "Returning Visitor?": 1,
         "Weekend": 1,
         "Revenue": 0,
         "_deepnote_index_column": 4
        }
       ],
       "rows_bottom": null
      },
      "text/plain": "  Region TrafficType  Returning Visitor?  Weekend  Revenue\n0      1           1                   1        0        0\n1      1           2                   1        0        0\n2      9           3                   1        0        0\n3      2           4                   1        0        0\n4      1           4                   1        1        0",
      "text/html": "<div>\n<style scoped>\n    .dataframe tbody tr th:only-of-type {\n        vertical-align: middle;\n    }\n\n    .dataframe tbody tr th {\n        vertical-align: top;\n    }\n\n    .dataframe thead th {\n        text-align: right;\n    }\n</style>\n<table border=\"1\" class=\"dataframe\">\n  <thead>\n    <tr style=\"text-align: right;\">\n      <th></th>\n      <th>Region</th>\n      <th>TrafficType</th>\n      <th>Returning Visitor?</th>\n      <th>Weekend</th>\n      <th>Revenue</th>\n    </tr>\n  </thead>\n  <tbody>\n    <tr>\n      <th>0</th>\n      <td>1</td>\n      <td>1</td>\n      <td>1</td>\n      <td>0</td>\n      <td>0</td>\n    </tr>\n    <tr>\n      <th>1</th>\n      <td>1</td>\n      <td>2</td>\n      <td>1</td>\n      <td>0</td>\n      <td>0</td>\n    </tr>\n    <tr>\n      <th>2</th>\n      <td>9</td>\n      <td>3</td>\n      <td>1</td>\n      <td>0</td>\n      <td>0</td>\n    </tr>\n    <tr>\n      <th>3</th>\n      <td>2</td>\n      <td>4</td>\n      <td>1</td>\n      <td>0</td>\n      <td>0</td>\n    </tr>\n    <tr>\n      <th>4</th>\n      <td>1</td>\n      <td>4</td>\n      <td>1</td>\n      <td>1</td>\n      <td>0</td>\n    </tr>\n  </tbody>\n</table>\n</div>"
     },
     "metadata": {}
    }
   ]
  },
  {
   "cell_type": "code",
   "metadata": {
    "tags": [],
    "cell_id": "00029-704d6f5c-c9e8-4192-8ed3-9da591b42c87",
    "deepnote_to_be_reexecuted": false,
    "source_hash": "7e5afdee",
    "execution_start": 1630702155276,
    "execution_millis": 1376,
    "deepnote_cell_type": "code"
   },
   "source": "# Creating new table with logged values\n\ntable_log = np.log((table.iloc[:,:9])+1)\n\n# adding revenue column to log table\n\ntable_log['Revenue'] = table['Revenue']\n\ncorr_num_log = table_log.corr()\n\nfig = plt.figure(figsize=(8,8))\nsns.heatmap(round(corr_num_log,2),xticklabels=corr_num_log.columns,yticklabels=corr_num_log.columns, annot=True)",
   "execution_count": 26,
   "outputs": [
    {
     "output_type": "execute_result",
     "execution_count": 26,
     "data": {
      "text/plain": "<AxesSubplot:>"
     },
     "metadata": {}
    },
    {
     "data": {
      "text/plain": "<Figure size 576x576 with 2 Axes>",
      "image/png": "[encoded data removed]"
     },
     "metadata": {
      "needs_background": "light",
      "image/png": {
       "width": 578,
       "height": 584
      }
     },
     "output_type": "display_data"
    }
   ]
  },
  {
   "cell_type": "code",
   "metadata": {
    "tags": [],
    "cell_id": "00026-26852f17-3e38-48da-b0bb-138b5659be92",
    "deepnote_to_be_reexecuted": false,
    "source_hash": "3655a214",
    "execution_start": 1630702156700,
    "execution_millis": 290,
    "deepnote_cell_type": "code"
   },
   "source": "# check correlation between boolean \n\ncorr_cat = table_rf.corr()\nsns.heatmap(corr_cat, annot=True)\n",
   "execution_count": 27,
   "outputs": [
    {
     "output_type": "execute_result",
     "execution_count": 27,
     "data": {
      "text/plain": "<AxesSubplot:>"
     },
     "metadata": {}
    },
    {
     "data": {
      "text/plain": "<Figure size 432x288 with 2 Axes>",
      "image/png": "[encoded data removed]"
     },
     "metadata": {
      "needs_background": "light",
      "image/png": {
       "width": 428,
       "height": 252
      }
     },
     "output_type": "display_data"
    }
   ]
  },
  {
   "cell_type": "code",
   "metadata": {
    "tags": [],
    "cell_id": "00020-da9597f6-71f0-4140-ad67-938fdb2fbd90",
    "deepnote_to_be_reexecuted": false,
    "source_hash": "c6e7a4f",
    "execution_start": 1630702157038,
    "execution_millis": 6,
    "deepnote_cell_type": "code"
   },
   "source": "# Number of Sales & proportion of sales\n\nprint(\"Total number of sales in data:\", sum(table['Revenue']))\n\nprint(\"Proportion of sales to overall visitors:\", sum(table['Revenue'])/len(table))",
   "execution_count": 28,
   "outputs": [
    {
     "name": "stdout",
     "text": "Total number of sales in data: 1793\nProportion of sales to overall visitors: 0.15368132339076027\n",
     "output_type": "stream"
    }
   ]
  },
  {
   "cell_type": "markdown",
   "source": "",
   "metadata": {
    "tags": [],
    "cell_id": "00024-c6ddf2b9-7775-4e82-915a-f1636551fbd0",
    "deepnote_cell_type": "markdown"
   }
  },
  {
   "cell_type": "code",
   "metadata": {
    "tags": [],
    "cell_id": "00021-d54ffa3f-8a63-413e-bd1b-db86bf3a8920",
    "deepnote_to_be_reexecuted": false,
    "source_hash": "c2c4ca19",
    "execution_start": 1630702157039,
    "execution_millis": 75,
    "deepnote_cell_type": "code"
   },
   "source": "## Logistic Regression - using numerical variables from attributes, logged, to predict revenue\n\nfrom sklearn.metrics import accuracy_score, classification_report, confusion_matrix\nfrom sklearn import neighbors, preprocessing\nfrom sklearn.linear_model import LogisticRegression\nX = table_log.iloc[:,:6]\ny = table.iloc[:,17]\nX_train, X_test, y_train, y_test = train_test_split(table_log.iloc[:,:6],table.iloc[:,17])\nscaler = preprocessing.StandardScaler().fit(X_train)\nX_train = scaler.transform(X_train)\nX_test = scaler.transform(X_test)\nlogreg=LogisticRegression()\nlogreg.fit(X_train, y_train)\ny_pred=logreg.predict(X)\n\nprint('coefficients for features are', logreg.coef_)\nprint('Intercept of Model:', logreg.intercept_)\nprint('Score of Model:',logreg.score(X,y))",
   "execution_count": 29,
   "outputs": [
    {
     "name": "stdout",
     "text": "coefficients for features are [[-0.04667419  0.27497177  0.01011692  0.03973213  0.00256743  0.70083407]]\nIntercept of Model: [-1.90573204]\nScore of Model: 0.21985086140395987\n",
     "output_type": "stream"
    }
   ]
  },
  {
   "cell_type": "markdown",
   "source": "These are the coefficient values for each of type of page visits - Administrative, administrative duration, informational, informational duration, product related and product related duration, respectively, with them being normalized with a Log+1 transformation to limit outliers and skew. The largest impact on if a sale is made, is product related page visit duration. However, the overall score for the model was poor.",
   "metadata": {
    "tags": [],
    "cell_id": "00029-c8b4a639-bbdc-418a-8349-5fad768c8298",
    "deepnote_cell_type": "markdown"
   }
  },
  {
   "cell_type": "code",
   "metadata": {
    "tags": [],
    "cell_id": "00035-c9d91375-cdba-4062-8d72-12ae49204c36",
    "deepnote_to_be_reexecuted": false,
    "source_hash": "7ac59818",
    "execution_start": 1630702157110,
    "execution_millis": 22,
    "deepnote_cell_type": "code"
   },
   "source": "logreg.predict(X)",
   "execution_count": 30,
   "outputs": [
    {
     "output_type": "execute_result",
     "execution_count": 30,
     "data": {
      "text/plain": "array([0, 1, 0, ..., 1, 1, 1])"
     },
     "metadata": {}
    }
   ]
  },
  {
   "cell_type": "code",
   "metadata": {
    "tags": [],
    "cell_id": "00028-c3b43a1c-6fff-4505-8379-ac0f7ec16704",
    "deepnote_to_be_reexecuted": false,
    "source_hash": "26a832f2",
    "execution_start": 1630702157136,
    "execution_millis": 565,
    "deepnote_cell_type": "code"
   },
   "source": "#classification with random forests - using categorical variables region, traffic type, vistor type and weekend\n\nnp.random.seed(123)\nX_train, X_test, y_train, y_test = train_test_split(table_rf.iloc[:,:4],table_rf.iloc[:,4],test_size=.3)\nclf = RandomForestClassifier(n_estimators=100)\nclf.fit(X_train,y_train)\ny_pred=clf.predict(X_test)\n",
   "execution_count": 31,
   "outputs": []
  },
  {
   "cell_type": "code",
   "metadata": {
    "tags": [],
    "cell_id": "00029-fabe2826-4adb-4803-ac35-9e85b7958b31",
    "deepnote_to_be_reexecuted": false,
    "source_hash": "e69828d5",
    "execution_start": 1630702157717,
    "execution_millis": 41,
    "deepnote_cell_type": "code"
   },
   "source": "from sklearn import metrics\nprint(metrics.confusion_matrix(y_test,y_pred))\nprint(metrics.classification_report(y_test,y_pred))",
   "execution_count": 32,
   "outputs": [
    {
     "name": "stdout",
     "text": "[[2916   51]\n [ 518   16]]\n              precision    recall  f1-score   support\n\n           0       0.85      0.98      0.91      2967\n           1       0.24      0.03      0.05       534\n\n    accuracy                           0.84      3501\n   macro avg       0.54      0.51      0.48      3501\nweighted avg       0.76      0.84      0.78      3501\n\n",
     "output_type": "stream"
    }
   ]
  },
  {
   "cell_type": "code",
   "metadata": {
    "tags": [],
    "cell_id": "00030-b438bef7-abbd-4733-8e77-c96f9ceffc7f",
    "deepnote_to_be_reexecuted": false,
    "source_hash": "c2a7a589",
    "execution_start": 1630702157787,
    "execution_millis": 1829,
    "deepnote_cell_type": "code"
   },
   "source": "from sklearn.model_selection import cross_val_score\nprint(cross_val_score(clf, X_train, y_train, cv=4))\n",
   "execution_count": 33,
   "outputs": [
    {
     "name": "stdout",
     "text": "[0.84329089 0.84084231 0.84370407 0.84076433]\n",
     "output_type": "stream"
    }
   ]
  },
  {
   "cell_type": "code",
   "metadata": {
    "tags": [],
    "cell_id": "00035-f9055084-b73d-4e10-9ca3-3a4c92571fd2",
    "deepnote_to_be_reexecuted": false,
    "source_hash": "14e7fbdd",
    "execution_start": 1630702159598,
    "execution_millis": 56,
    "deepnote_cell_type": "code"
   },
   "source": "# K-means cluster\n# Include all data that we've seen to have an impact on  \n\ntable_km1 = table_log.iloc[:,:6]\ntable_km2 = table_rf.iloc[:,:4]\n\ntable_km = table_km1.join(table_km2)\ntable_km.head()",
   "execution_count": 34,
   "outputs": [
    {
     "output_type": "execute_result",
     "execution_count": 34,
     "data": {
      "application/vnd.deepnote.dataframe.v2+json": {
       "row_count": 5,
       "column_count": 10,
       "columns": [
        {
         "name": "Administrative",
         "dtype": "float64",
         "stats": {
          "unique_count": 1,
          "nan_count": 0,
          "min": "0.0",
          "max": "0.0",
          "histogram": [
           {
            "bin_start": -0.5,
            "bin_end": -0.4,
            "count": 0
           },
           {
            "bin_start": -0.4,
            "bin_end": -0.3,
            "count": 0
           },
           {
            "bin_start": -0.3,
            "bin_end": -0.19999999999999996,
            "count": 0
           },
           {
            "bin_start": -0.19999999999999996,
            "bin_end": -0.09999999999999998,
            "count": 0
           },
           {
            "bin_start": -0.09999999999999998,
            "bin_end": 0,
            "count": 0
           },
           {
            "bin_start": 0,
            "bin_end": 0.10000000000000009,
            "count": 5
           },
           {
            "bin_start": 0.10000000000000009,
            "bin_end": 0.20000000000000007,
            "count": 0
           },
           {
            "bin_start": 0.20000000000000007,
            "bin_end": 0.30000000000000004,
            "count": 0
           },
           {
            "bin_start": 0.30000000000000004,
            "bin_end": 0.4,
            "count": 0
           },
           {
            "bin_start": 0.4,
            "bin_end": 0.5,
            "count": 0
           }
          ]
         }
        },
        {
         "name": "Administrative_Duration",
         "dtype": "float64",
         "stats": {
          "unique_count": 1,
          "nan_count": 0,
          "min": "0.0",
          "max": "0.0",
          "histogram": [
           {
            "bin_start": -0.5,
            "bin_end": -0.4,
            "count": 0
           },
           {
            "bin_start": -0.4,
            "bin_end": -0.3,
            "count": 0
           },
           {
            "bin_start": -0.3,
            "bin_end": -0.19999999999999996,
            "count": 0
           },
           {
            "bin_start": -0.19999999999999996,
            "bin_end": -0.09999999999999998,
            "count": 0
           },
           {
            "bin_start": -0.09999999999999998,
            "bin_end": 0,
            "count": 0
           },
           {
            "bin_start": 0,
            "bin_end": 0.10000000000000009,
            "count": 5
           },
           {
            "bin_start": 0.10000000000000009,
            "bin_end": 0.20000000000000007,
            "count": 0
           },
           {
            "bin_start": 0.20000000000000007,
            "bin_end": 0.30000000000000004,
            "count": 0
           },
           {
            "bin_start": 0.30000000000000004,
            "bin_end": 0.4,
            "count": 0
           },
           {
            "bin_start": 0.4,
            "bin_end": 0.5,
            "count": 0
           }
          ]
         }
        },
        {
         "name": "Informational",
         "dtype": "float64",
         "stats": {
          "unique_count": 1,
          "nan_count": 0,
          "min": "0.0",
          "max": "0.0",
          "histogram": [
           {
            "bin_start": -0.5,
            "bin_end": -0.4,
            "count": 0
           },
           {
            "bin_start": -0.4,
            "bin_end": -0.3,
            "count": 0
           },
           {
            "bin_start": -0.3,
            "bin_end": -0.19999999999999996,
            "count": 0
           },
           {
            "bin_start": -0.19999999999999996,
            "bin_end": -0.09999999999999998,
            "count": 0
           },
           {
            "bin_start": -0.09999999999999998,
            "bin_end": 0,
            "count": 0
           },
           {
            "bin_start": 0,
            "bin_end": 0.10000000000000009,
            "count": 5
           },
           {
            "bin_start": 0.10000000000000009,
            "bin_end": 0.20000000000000007,
            "count": 0
           },
           {
            "bin_start": 0.20000000000000007,
            "bin_end": 0.30000000000000004,
            "count": 0
           },
           {
            "bin_start": 0.30000000000000004,
            "bin_end": 0.4,
            "count": 0
           },
           {
            "bin_start": 0.4,
            "bin_end": 0.5,
            "count": 0
           }
          ]
         }
        },
        {
         "name": "Informational_Duration",
         "dtype": "float64",
         "stats": {
          "unique_count": 1,
          "nan_count": 0,
          "min": "0.0",
          "max": "0.0",
          "histogram": [
           {
            "bin_start": -0.5,
            "bin_end": -0.4,
            "count": 0
           },
           {
            "bin_start": -0.4,
            "bin_end": -0.3,
            "count": 0
           },
           {
            "bin_start": -0.3,
            "bin_end": -0.19999999999999996,
            "count": 0
           },
           {
            "bin_start": -0.19999999999999996,
            "bin_end": -0.09999999999999998,
            "count": 0
           },
           {
            "bin_start": -0.09999999999999998,
            "bin_end": 0,
            "count": 0
           },
           {
            "bin_start": 0,
            "bin_end": 0.10000000000000009,
            "count": 5
           },
           {
            "bin_start": 0.10000000000000009,
            "bin_end": 0.20000000000000007,
            "count": 0
           },
           {
            "bin_start": 0.20000000000000007,
            "bin_end": 0.30000000000000004,
            "count": 0
           },
           {
            "bin_start": 0.30000000000000004,
            "bin_end": 0.4,
            "count": 0
           },
           {
            "bin_start": 0.4,
            "bin_end": 0.5,
            "count": 0
           }
          ]
         }
        },
        {
         "name": "ProductRelated",
         "dtype": "float64",
         "stats": {
          "unique_count": 3,
          "nan_count": 0,
          "min": "0.6931471805599453",
          "max": "2.3978952727983707",
          "histogram": [
           {
            "bin_start": 0.6931471805599453,
            "bin_end": 0.8636219897837878,
            "count": 2
           },
           {
            "bin_start": 0.8636219897837878,
            "bin_end": 1.0340967990076304,
            "count": 0
           },
           {
            "bin_start": 1.0340967990076304,
            "bin_end": 1.2045716082314728,
            "count": 2
           },
           {
            "bin_start": 1.2045716082314728,
            "bin_end": 1.3750464174553154,
            "count": 0
           },
           {
            "bin_start": 1.3750464174553154,
            "bin_end": 1.545521226679158,
            "count": 0
           },
           {
            "bin_start": 1.545521226679158,
            "bin_end": 1.7159960359030006,
            "count": 0
           },
           {
            "bin_start": 1.7159960359030006,
            "bin_end": 1.8864708451268428,
            "count": 0
           },
           {
            "bin_start": 1.8864708451268428,
            "bin_end": 2.0569456543506854,
            "count": 0
           },
           {
            "bin_start": 2.0569456543506854,
            "bin_end": 2.227420463574528,
            "count": 0
           },
           {
            "bin_start": 2.227420463574528,
            "bin_end": 2.3978952727983707,
            "count": 1
           }
          ]
         }
        },
        {
         "name": "ProductRelated_Duration",
         "dtype": "float64",
         "stats": {
          "unique_count": 4,
          "nan_count": 0,
          "min": "0.0",
          "max": "6.443336028030302",
          "histogram": [
           {
            "bin_start": 0,
            "bin_end": 0.6443336028030302,
            "count": 2
           },
           {
            "bin_start": 0.6443336028030302,
            "bin_end": 1.2886672056060604,
            "count": 0
           },
           {
            "bin_start": 1.2886672056060604,
            "bin_end": 1.9330008084090906,
            "count": 1
           },
           {
            "bin_start": 1.9330008084090906,
            "bin_end": 2.577334411212121,
            "count": 0
           },
           {
            "bin_start": 2.577334411212121,
            "bin_end": 3.221668014015151,
            "count": 0
           },
           {
            "bin_start": 3.221668014015151,
            "bin_end": 3.866001616818181,
            "count": 0
           },
           {
            "bin_start": 3.866001616818181,
            "bin_end": 4.510335219621211,
            "count": 1
           },
           {
            "bin_start": 4.510335219621211,
            "bin_end": 5.154668822424242,
            "count": 0
           },
           {
            "bin_start": 5.154668822424242,
            "bin_end": 5.799002425227272,
            "count": 0
           },
           {
            "bin_start": 5.799002425227272,
            "bin_end": 6.443336028030302,
            "count": 1
           }
          ]
         }
        },
        {
         "name": "Region",
         "dtype": "category",
         "stats": {
          "unique_count": 3,
          "nan_count": 0,
          "categories": [
           {
            "name": "1",
            "count": 3
           },
           {
            "name": "9",
            "count": 1
           },
           {
            "name": "2",
            "count": 1
           }
          ]
         }
        },
        {
         "name": "TrafficType",
         "dtype": "category",
         "stats": {
          "unique_count": 4,
          "nan_count": 0,
          "categories": [
           {
            "name": "4",
            "count": 2
           },
           {
            "name": "1",
            "count": 1
           },
           {
            "name": "2 others",
            "count": 2
           }
          ]
         }
        },
        {
         "name": "Returning Visitor?",
         "dtype": "int64",
         "stats": {
          "unique_count": 1,
          "nan_count": 0,
          "min": "1",
          "max": "1",
          "histogram": [
           {
            "bin_start": 0.5,
            "bin_end": 0.6,
            "count": 0
           },
           {
            "bin_start": 0.6,
            "bin_end": 0.7,
            "count": 0
           },
           {
            "bin_start": 0.7,
            "bin_end": 0.8,
            "count": 0
           },
           {
            "bin_start": 0.8,
            "bin_end": 0.9,
            "count": 0
           },
           {
            "bin_start": 0.9,
            "bin_end": 1,
            "count": 0
           },
           {
            "bin_start": 1,
            "bin_end": 1.1,
            "count": 5
           },
           {
            "bin_start": 1.1,
            "bin_end": 1.2000000000000002,
            "count": 0
           },
           {
            "bin_start": 1.2000000000000002,
            "bin_end": 1.3,
            "count": 0
           },
           {
            "bin_start": 1.3,
            "bin_end": 1.4,
            "count": 0
           },
           {
            "bin_start": 1.4,
            "bin_end": 1.5,
            "count": 0
           }
          ]
         }
        },
        {
         "name": "Weekend",
         "dtype": "int64",
         "stats": {
          "unique_count": 2,
          "nan_count": 0,
          "min": "0",
          "max": "1",
          "histogram": [
           {
            "bin_start": 0,
            "bin_end": 0.1,
            "count": 4
           },
           {
            "bin_start": 0.1,
            "bin_end": 0.2,
            "count": 0
           },
           {
            "bin_start": 0.2,
            "bin_end": 0.30000000000000004,
            "count": 0
           },
           {
            "bin_start": 0.30000000000000004,
            "bin_end": 0.4,
            "count": 0
           },
           {
            "bin_start": 0.4,
            "bin_end": 0.5,
            "count": 0
           },
           {
            "bin_start": 0.5,
            "bin_end": 0.6000000000000001,
            "count": 0
           },
           {
            "bin_start": 0.6000000000000001,
            "bin_end": 0.7000000000000001,
            "count": 0
           },
           {
            "bin_start": 0.7000000000000001,
            "bin_end": 0.8,
            "count": 0
           },
           {
            "bin_start": 0.8,
            "bin_end": 0.9,
            "count": 0
           },
           {
            "bin_start": 0.9,
            "bin_end": 1,
            "count": 1
           }
          ]
         }
        },
        {
         "name": "_deepnote_index_column",
         "dtype": "int64"
        }
       ],
       "rows_top": [
        {
         "Administrative": 0,
         "Administrative_Duration": 0,
         "Informational": 0,
         "Informational_Duration": 0,
         "ProductRelated": 0.6931471805599453,
         "ProductRelated_Duration": 0,
         "Region": 1,
         "TrafficType": 1,
         "Returning Visitor?": 1,
         "Weekend": 0,
         "_deepnote_index_column": 0
        },
        {
         "Administrative": 0,
         "Administrative_Duration": 0,
         "Informational": 0,
         "Informational_Duration": 0,
         "ProductRelated": 1.0986122886681098,
         "ProductRelated_Duration": 4.174387269895637,
         "Region": 1,
         "TrafficType": 2,
         "Returning Visitor?": 1,
         "Weekend": 0,
         "_deepnote_index_column": 1
        },
        {
         "Administrative": 0,
         "Administrative_Duration": 0,
         "Informational": 0,
         "Informational_Duration": 0,
         "ProductRelated": 0.6931471805599453,
         "ProductRelated_Duration": 0,
         "Region": 9,
         "TrafficType": 3,
         "Returning Visitor?": 1,
         "Weekend": 0,
         "_deepnote_index_column": 2
        },
        {
         "Administrative": 0,
         "Administrative_Duration": 0,
         "Informational": 0,
         "Informational_Duration": 0,
         "ProductRelated": 1.0986122886681098,
         "ProductRelated_Duration": 1.29928298422117,
         "Region": 2,
         "TrafficType": 4,
         "Returning Visitor?": 1,
         "Weekend": 0,
         "_deepnote_index_column": 3
        },
        {
         "Administrative": 0,
         "Administrative_Duration": 0,
         "Informational": 0,
         "Informational_Duration": 0,
         "ProductRelated": 2.3978952727983707,
         "ProductRelated_Duration": 6.443336028030302,
         "Region": 1,
         "TrafficType": 4,
         "Returning Visitor?": 1,
         "Weekend": 1,
         "_deepnote_index_column": 4
        }
       ],
       "rows_bottom": null
      },
      "text/plain": "   Administrative  Administrative_Duration  Informational  \\\n0             0.0                      0.0            0.0   \n1             0.0                      0.0            0.0   \n2             0.0                      0.0            0.0   \n3             0.0                      0.0            0.0   \n4             0.0                      0.0            0.0   \n\n   Informational_Duration  ProductRelated  ProductRelated_Duration Region  \\\n0                     0.0        0.693147                 0.000000      1   \n1                     0.0        1.098612                 4.174387      1   \n2                     0.0        0.693147                 0.000000      9   \n3                     0.0        1.098612                 1.299283      2   \n4                     0.0        2.397895                 6.443336      1   \n\n  TrafficType  Returning Visitor?  Weekend  \n0           1                   1        0  \n1           2                   1        0  \n2           3                   1        0  \n3           4                   1        0  \n4           4                   1        1  ",
      "text/html": "<div>\n<style scoped>\n    .dataframe tbody tr th:only-of-type {\n        vertical-align: middle;\n    }\n\n    .dataframe tbody tr th {\n        vertical-align: top;\n    }\n\n    .dataframe thead th {\n        text-align: right;\n    }\n</style>\n<table border=\"1\" class=\"dataframe\">\n  <thead>\n    <tr style=\"text-align: right;\">\n      <th></th>\n      <th>Administrative</th>\n      <th>Administrative_Duration</th>\n      <th>Informational</th>\n      <th>Informational_Duration</th>\n      <th>ProductRelated</th>\n      <th>ProductRelated_Duration</th>\n      <th>Region</th>\n      <th>TrafficType</th>\n      <th>Returning Visitor?</th>\n      <th>Weekend</th>\n    </tr>\n  </thead>\n  <tbody>\n    <tr>\n      <th>0</th>\n      <td>0.0</td>\n      <td>0.0</td>\n      <td>0.0</td>\n      <td>0.0</td>\n      <td>0.693147</td>\n      <td>0.000000</td>\n      <td>1</td>\n      <td>1</td>\n      <td>1</td>\n      <td>0</td>\n    </tr>\n    <tr>\n      <th>1</th>\n      <td>0.0</td>\n      <td>0.0</td>\n      <td>0.0</td>\n      <td>0.0</td>\n      <td>1.098612</td>\n      <td>4.174387</td>\n      <td>1</td>\n      <td>2</td>\n      <td>1</td>\n      <td>0</td>\n    </tr>\n    <tr>\n      <th>2</th>\n      <td>0.0</td>\n      <td>0.0</td>\n      <td>0.0</td>\n      <td>0.0</td>\n      <td>0.693147</td>\n      <td>0.000000</td>\n      <td>9</td>\n      <td>3</td>\n      <td>1</td>\n      <td>0</td>\n    </tr>\n    <tr>\n      <th>3</th>\n      <td>0.0</td>\n      <td>0.0</td>\n      <td>0.0</td>\n      <td>0.0</td>\n      <td>1.098612</td>\n      <td>1.299283</td>\n      <td>2</td>\n      <td>4</td>\n      <td>1</td>\n      <td>0</td>\n    </tr>\n    <tr>\n      <th>4</th>\n      <td>0.0</td>\n      <td>0.0</td>\n      <td>0.0</td>\n      <td>0.0</td>\n      <td>2.397895</td>\n      <td>6.443336</td>\n      <td>1</td>\n      <td>4</td>\n      <td>1</td>\n      <td>1</td>\n    </tr>\n  </tbody>\n</table>\n</div>"
     },
     "metadata": {}
    }
   ]
  },
  {
   "cell_type": "code",
   "metadata": {
    "tags": [],
    "cell_id": "00038-3dd088a2-2630-4604-b436-31c5ee50fd72",
    "deepnote_to_be_reexecuted": false,
    "source_hash": "9f31f48b",
    "execution_start": 1630702159656,
    "execution_millis": 150,
    "deepnote_cell_type": "code"
   },
   "source": "# importing necessary libraries for that, and using \n\nfrom sklearn.cluster import KMeans\nfrom sklearn.preprocessing import scale\nfrom sklearn.decomposition import PCA\n\nX_digits = table_km.values\ny_digits = table.iloc[:,17].values\ndata = scale(X_digits)\nn_digits = len(np.unique(y_digits))\nlabels=y_digits",
   "execution_count": 35,
   "outputs": []
  },
  {
   "cell_type": "code",
   "metadata": {
    "tags": [],
    "cell_id": "00040-b8a2b9bc-0bd5-4108-b22e-34eedde2c204",
    "deepnote_to_be_reexecuted": false,
    "source_hash": "a1361da8",
    "execution_start": 1630702159822,
    "execution_millis": 960,
    "deepnote_cell_type": "code"
   },
   "source": "# applying Principal Component Analysis to reduce data to 2 dimensions\n\nreduced_data = PCA(n_components=2).fit_transform(data)\nkmeans=KMeans(init='k-means++',n_clusters=n_digits, n_init =10)\nkmeans.fit(reduced_data)\n\n#plotting decision boundary\nx_min, x_max = reduced_data[:,0].min()-1,reduced_data[:,0].max()+1\ny_min, y_max = reduced_data[:,1].min()-1,reduced_data[:,1].max()+1\nxx,yy = np.meshgrid(np.arange(x_min,x_max,0.1),np.arange(y_min,y_max,0.1))\n\n# obtain labels for each point\nZ = kmeans.predict(np.c_[xx.ravel(),yy.ravel()])\n\n# put result on color plot\n\nZ = Z.reshape(xx.shape)\nfig = plt.figure(figsize=(10,8))\nplt.figure(1)\nplt.clf()\nplt.imshow(Z,interpolation='nearest',\n            extent = (xx.min(), xx.max(), yy.min(),yy.max()),\n            cmap = plt.cm.Paired, origin = 'lower')\nplt.plot(reduced_data[:,0],reduced_data[:,1],'k.',markersize=3)\n\nplt.title('K-Means clustering on PCA-reduced data')\nplt.xticks(())\nplt.yticks(())\nplt.show()\n",
   "execution_count": 36,
   "outputs": [
    {
     "data": {
      "text/plain": "<Figure size 720x576 with 1 Axes>",
      "image/png": "[encoded data removed]"
     },
     "metadata": {
      "image/png": {
       "width": 534,
       "height": 468
      }
     },
     "output_type": "display_data"
    }
   ]
  },
  {
   "cell_type": "code",
   "metadata": {
    "tags": [],
    "cell_id": "00041-f6822e91-d367-4c51-a02f-876c8236ca41",
    "deepnote_to_be_reexecuted": false,
    "source_hash": "b623e53d",
    "execution_start": 1630702160784,
    "execution_millis": 1,
    "deepnote_cell_type": "code"
   },
   "source": "",
   "execution_count": 36,
   "outputs": []
  },
  {
   "cell_type": "markdown",
   "source": "<a style='text-decoration:none;line-height:16px;display:flex;color:#5B5B62;padding:10px;justify-content:end;' href='https://deepnote.com?utm_source=created-in-deepnote-cell&projectId=a0fd1dcd-6362-495f-bc24-80f9de1d46db' target=\"_blank\">\n<img alt='Created in deepnote.com' style='display:inline;max-height:16px;margin:0px;margin-right:7.5px;' src='data:image/svg+xml;base64,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' > </img>\nCreated in <span style='font-weight:600;margin-left:4px;'>Deepnote</span></a>",
   "metadata": {
    "tags": [],
    "created_in_deepnote_cell": true,
    "deepnote_cell_type": "markdown"
   }
  }
 ],
 "nbformat": 4,
 "nbformat_minor": 5,
 "metadata": {
  "kernelspec": {
   "display_name": "Python 3",
   "language": "python",
   "name": "python3"
  },
  "language_info": {
   "codemirror_mode": {
    "name": "ipython",
    "version": 3
   },
   "file_extension": ".py",
   "mimetype": "text/x-python",
   "name": "python",
   "nbconvert_exporter": "python",
   "pygments_lexer": "ipython3",
   "version": "3.8.8"
  },
  "deepnote_notebook_id": "9b81d19c-790f-472e-90ca-927f8880008b",
  "deepnote": {},
  "deepnote_execution_queue": []
 }
}